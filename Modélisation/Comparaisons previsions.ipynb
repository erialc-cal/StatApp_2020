{
 "cells": [
  {
   "cell_type": "code",
   "execution_count": 15,
   "metadata": {},
   "outputs": [
    {
     "name": "stdout",
     "output_type": "stream",
     "text": [
      "[Errno 2] No such file or directory: 'Documents/GitHub/StatApp_2020'\n",
      "/Users/h2jw/Documents/GitHub/StatApp_2020\n"
     ]
    }
   ],
   "source": [
    "%cd Documents/GitHub/StatApp_2020"
   ]
  },
  {
   "cell_type": "code",
   "execution_count": 17,
   "metadata": {},
   "outputs": [
    {
     "name": "stdout",
     "output_type": "stream",
     "text": [
      "[Errno 2] No such file or directory: 'Modélisation'\n",
      "/Users/h2jw/Documents/GitHub/StatApp_2020/Modélisation\n",
      "Comparaisons previsions.ipynb   Visu_Previsions_NP.pbix\r\n",
      "Modele_ARIMA.py                 Visu_Previsions_NP_Arrivee.pdf\r\n",
      "Modele_NP.py                    __main__.py\r\n",
      "\u001b[31mModele_NP_KWT\u001b[m\u001b[m*                  \u001b[34m__pycache__\u001b[m\u001b[m/\r\n",
      "Modele_NP_final.py              \u001b[34mtest\u001b[m\u001b[m/\r\n",
      "NP_Boudra.py\r\n"
     ]
    }
   ],
   "source": [
    "%cd Modélisation\n",
    "%ls"
   ]
  },
  {
   "cell_type": "code",
   "execution_count": 28,
   "metadata": {},
   "outputs": [],
   "source": [
    "import math\n",
    "from datetime import timedelta\n",
    "\n",
    "import pandas as pd\n",
    "import numpy as np\n",
    "import Modele_NP_KWT as kwt\n",
    "import Modele_NP_final as model_np\n",
    "from tqdm import tqdm "
   ]
  },
  {
   "cell_type": "code",
   "execution_count": 31,
   "metadata": {},
   "outputs": [],
   "source": [
    "\n",
    "dateDebMod = pd.to_datetime(\"2007-01-01\")\n",
    "dateFinMod = pd.to_datetime(\"2015-12-31\")\n",
    "\n",
    "\n",
    "horizonsPrev = [7, 31+29+31, 365] #Prédictions sur une semaine, 3 mois et un an\n",
    "            \n",
    "\n",
    "database = pd.read_csv(\"/Users/h2jw/Documents/GitHub/StatApp_2020/Data/database_sieges.csv\",low_memory=False,decimal=',')\n",
    "database['Coeff_Rempl']=database['PAX'].astype('float')/database[\"Sièges Corrections_ICI\"].astype('float')\n",
    "database = database.astype({'Date': 'datetime64[ns]','PAX_FQM':'float','Sièges Corrections_ICI':'float','Coeff_Rempl':'float','Coeff_Rempl_FQM':'float'})\n",
    "database = database.groupby(['Date','Faisceau','ArrDep']).agg({'PAX':'sum','PAX_FQM':'sum','Sièges Corrections_ICI':'sum','Coeff_Rempl':'mean','Coeff_Rempl_FQM':'mean'}).reset_index()\n",
    "\n",
    "Calendrier = pd.read_csv(\"/Users/h2jw/Documents/GitHub/StatApp_2020/Data/Calendrier/Calendrier.csv\", dayfirst = True , sep = ';' , parse_dates = ['Date'])\n",
    "\n",
    "histoMod = database[(database['Date']>=dateDebMod) & (database['Date']<=dateFinMod)]\n",
    "# histoMod.to_csv(\"HistoMod.csv\")\n",
    "\n",
    "histoPrev = database[(database['Date']>dateFinMod) & (database['Date']<=dateFinMod+timedelta(days = hPrev))]   \n",
    "\n",
    "hPrev = 7\n",
    "Prev_NP = pd.DataFrame()\n",
    "Prev_KWT = pd.DataFrame()\n",
    "\n",
    "for faisceau in ['National', 'Schengen', 'Autre UE', 'International', 'Dom Tom'] :\n",
    "    for mvt in ['Arrivée', 'Départ'] :\n",
    "\n",
    "        histoMod_2 = histoMod[(histoMod['Faisceau']==faisceau) & (histoMod['ArrDep']==mvt)]\n",
    "\n",
    "\n",
    "        # Modèle Non-Paramétrique :\n",
    "        prev_NP = model_np.previsions_NP(histoMod_2, Calendrier, dateDebMod, dateFinMod, hPrev)\n",
    "        prev_KWT = kwt.previsions_NP_KWT(histoMod_2, dateFinMod, hPrev)\n",
    "        Prev_NP = pd.concat([Prev_NP, prev_NP],ignore_index=True)  \n",
    "        Prev_KWT = pd.concat([Prev_KWT, prev_KWT])\n",
    "\n",
    "\n",
    "# Ajout des prévisions du modèle NP et NP avec ondelettes à histoPrev           \n",
    "histoPrev = pd.concat([histoPrev.set_index(['Date','Faisceau','ArrDep']),Prev_NP.set_index(['Date','Faisceau','ArrDep']),Prev_KWT.set_index(['Date','Faisceau','ArrDep'])],axis=1)\n",
    "histoPrev = histoPrev.reset_index()\n",
    "\n",
    "\n",
    "\n"
   ]
  },
  {
   "cell_type": "code",
   "execution_count": 34,
   "metadata": {},
   "outputs": [],
   "source": [
    "histoPrev.to_csv('prev_7_jours.csv')"
   ]
  },
  {
   "cell_type": "code",
   "execution_count": 38,
   "metadata": {},
   "outputs": [
    {
     "data": {
      "text/html": [
       "<div>\n",
       "<style scoped>\n",
       "    .dataframe tbody tr th:only-of-type {\n",
       "        vertical-align: middle;\n",
       "    }\n",
       "\n",
       "    .dataframe tbody tr th {\n",
       "        vertical-align: top;\n",
       "    }\n",
       "\n",
       "    .dataframe thead th {\n",
       "        text-align: right;\n",
       "    }\n",
       "</style>\n",
       "<table border=\"1\" class=\"dataframe\">\n",
       "  <thead>\n",
       "    <tr style=\"text-align: right;\">\n",
       "      <th></th>\n",
       "      <th>Date</th>\n",
       "      <th>Faisceau</th>\n",
       "      <th>ArrDep</th>\n",
       "      <th>PAX</th>\n",
       "      <th>PAX_FQM</th>\n",
       "      <th>Sièges Corrections_ICI</th>\n",
       "      <th>Coeff_Rempl</th>\n",
       "      <th>Coeff_Rempl_FQM</th>\n",
       "      <th>PAX_NP</th>\n",
       "      <th>IC95.0_low_NP</th>\n",
       "      <th>IC95.0_up_NP</th>\n",
       "      <th>PAX_NP</th>\n",
       "    </tr>\n",
       "  </thead>\n",
       "  <tbody>\n",
       "    <tr>\n",
       "      <th>0</th>\n",
       "      <td>2016-01-01</td>\n",
       "      <td>Autre UE</td>\n",
       "      <td>Arrivée</td>\n",
       "      <td>621</td>\n",
       "      <td>567.00</td>\n",
       "      <td>877.311749</td>\n",
       "      <td>0.667869</td>\n",
       "      <td>0.685714</td>\n",
       "      <td>484.689369</td>\n",
       "      <td>426.155061</td>\n",
       "      <td>584.663376</td>\n",
       "      <td>708.255442</td>\n",
       "    </tr>\n",
       "    <tr>\n",
       "      <th>1</th>\n",
       "      <td>2016-01-01</td>\n",
       "      <td>Autre UE</td>\n",
       "      <td>Départ</td>\n",
       "      <td>561</td>\n",
       "      <td>564.30</td>\n",
       "      <td>737.750683</td>\n",
       "      <td>0.757917</td>\n",
       "      <td>0.833333</td>\n",
       "      <td>936.163248</td>\n",
       "      <td>520.510773</td>\n",
       "      <td>1100.283716</td>\n",
       "      <td>713.697185</td>\n",
       "    </tr>\n",
       "    <tr>\n",
       "      <th>2</th>\n",
       "      <td>2016-01-01</td>\n",
       "      <td>Dom Tom</td>\n",
       "      <td>Arrivée</td>\n",
       "      <td>4946</td>\n",
       "      <td>5175.43</td>\n",
       "      <td>5550.247131</td>\n",
       "      <td>0.881251</td>\n",
       "      <td>0.912857</td>\n",
       "      <td>5135.608859</td>\n",
       "      <td>4187.852415</td>\n",
       "      <td>5648.799399</td>\n",
       "      <td>5046.753321</td>\n",
       "    </tr>\n",
       "    <tr>\n",
       "      <th>3</th>\n",
       "      <td>2016-01-01</td>\n",
       "      <td>Dom Tom</td>\n",
       "      <td>Départ</td>\n",
       "      <td>4282</td>\n",
       "      <td>4333.00</td>\n",
       "      <td>6103.909119</td>\n",
       "      <td>0.703995</td>\n",
       "      <td>0.675000</td>\n",
       "      <td>5243.083772</td>\n",
       "      <td>4281.222365</td>\n",
       "      <td>5880.438877</td>\n",
       "      <td>5320.410494</td>\n",
       "    </tr>\n",
       "    <tr>\n",
       "      <th>4</th>\n",
       "      <td>2016-01-01</td>\n",
       "      <td>International</td>\n",
       "      <td>Arrivée</td>\n",
       "      <td>7557</td>\n",
       "      <td>8100.04</td>\n",
       "      <td>9713.552023</td>\n",
       "      <td>0.777457</td>\n",
       "      <td>0.853077</td>\n",
       "      <td>10163.016864</td>\n",
       "      <td>8564.040412</td>\n",
       "      <td>10957.498650</td>\n",
       "      <td>8378.636710</td>\n",
       "    </tr>\n",
       "  </tbody>\n",
       "</table>\n",
       "</div>"
      ],
      "text/plain": [
       "        Date       Faisceau   ArrDep   PAX  PAX_FQM  Sièges Corrections_ICI  \\\n",
       "0 2016-01-01       Autre UE  Arrivée   621   567.00              877.311749   \n",
       "1 2016-01-01       Autre UE   Départ   561   564.30              737.750683   \n",
       "2 2016-01-01        Dom Tom  Arrivée  4946  5175.43             5550.247131   \n",
       "3 2016-01-01        Dom Tom   Départ  4282  4333.00             6103.909119   \n",
       "4 2016-01-01  International  Arrivée  7557  8100.04             9713.552023   \n",
       "\n",
       "   Coeff_Rempl  Coeff_Rempl_FQM        PAX_NP  IC95.0_low_NP  IC95.0_up_NP  \\\n",
       "0     0.667869         0.685714    484.689369     426.155061    584.663376   \n",
       "1     0.757917         0.833333    936.163248     520.510773   1100.283716   \n",
       "2     0.881251         0.912857   5135.608859    4187.852415   5648.799399   \n",
       "3     0.703995         0.675000   5243.083772    4281.222365   5880.438877   \n",
       "4     0.777457         0.853077  10163.016864    8564.040412  10957.498650   \n",
       "\n",
       "        PAX_NP  \n",
       "0   708.255442  \n",
       "1   713.697185  \n",
       "2  5046.753321  \n",
       "3  5320.410494  \n",
       "4  8378.636710  "
      ]
     },
     "execution_count": 38,
     "metadata": {},
     "output_type": "execute_result"
    }
   ],
   "source": [
    "histoPrev.head()"
   ]
  },
  {
   "cell_type": "code",
   "execution_count": 39,
   "metadata": {},
   "outputs": [
    {
     "data": {
      "text/plain": [
       "<AxesSubplot:>"
      ]
     },
     "execution_count": 39,
     "metadata": {},
     "output_type": "execute_result"
    },
    {
     "data": {
      "image/png": "[encoded data removed]",
      "text/plain": [
       "<Figure size 432x288 with 1 Axes>"
      ]
     },
     "metadata": {
      "needs_background": "light"
     },
     "output_type": "display_data"
    }
   ],
   "source": [
    "histoPrev[['PAX_NP','PAX', 'PAX_FQM']].plot()"
   ]
  },
  {
   "cell_type": "code",
   "execution_count": null,
   "metadata": {},
   "outputs": [],
   "source": []
  }
 ],
 "metadata": {
  "kernelspec": {
   "display_name": "Python 3",
   "language": "python",
   "name": "python3"
  },
  "language_info": {
   "codemirror_mode": {
    "name": "ipython",
    "version": 3
   },
   "file_extension": ".py",
   "mimetype": "text/x-python",
   "name": "python",
   "nbconvert_exporter": "python",
   "pygments_lexer": "ipython3",
   "version": "3.8.5"
  }
 },
 "nbformat": 4,
 "nbformat_minor": 4
}
