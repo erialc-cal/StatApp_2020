{
 "cells": [
  {
   "cell_type": "code",
   "execution_count": 12,
   "metadata": {
    "id": "Sxe0rZaMVcI2",
    "outputId": "e2864c21-ed1a-4c5b-ad99-6ea712d1cfbb"
   },
   "outputs": [],
   "source": [
    "import os"
   ]
  },
  {
   "cell_type": "code",
   "execution_count": 29,
   "metadata": {
    "id": "29YZfvSSVcI4",
    "outputId": "a9d3b27d-46a2-4df8-8dc8-479ee4b093fb"
   },
   "outputs": [],
   "source": [
    "os.getcwd()\n",
    "dir_path= \"/Users/h2jw/Documents/GitHub/StatApp_2020/\""
   ]
  },
  {
   "cell_type": "code",
   "execution_count": 27,
   "metadata": {},
   "outputs": [
    {
     "name": "stdout",
     "output_type": "stream",
     "text": [
      "\u001b[34mBibliographie\u001b[m\u001b[m       \u001b[34mModélisation\u001b[m\u001b[m        README.md\r\n",
      "\u001b[34mData\u001b[m\u001b[m                \u001b[34mPreparation reunion\u001b[m\u001b[m \u001b[34mVisualisation\u001b[m\u001b[m\r\n"
     ]
    }
   ],
   "source": [
    "!ls /Users/h2jw/Documents/GitHub/StatApp_2020/"
   ]
  },
  {
   "cell_type": "code",
   "execution_count": 30,
   "metadata": {},
   "outputs": [],
   "source": [
    "os.chdir(dir_path+\"Modélisation\")"
   ]
  },
  {
   "cell_type": "code",
   "execution_count": 56,
   "metadata": {
    "scrolled": false
   },
   "outputs": [
    {
     "name": "stdout",
     "output_type": "stream",
     "text": [
      "1.1.3\n",
      "1.19.2\n",
      "0.23.2\n",
      "pmdarima 1.15.0\n",
      "0.12.2\n",
      "0.11.1\n"
     ]
    },
    {
     "ename": "AttributeError",
     "evalue": "module 'datetime' has no attribute '__version__'",
     "output_type": "error",
     "traceback": [
      "\u001b[0;31m---------------------------------------------------------------------------\u001b[0m",
      "\u001b[0;31mAttributeError\u001b[0m                            Traceback (most recent call last)",
      "\u001b[0;32m<ipython-input-56-5a1bd898ea92>\u001b[0m in \u001b[0;36m<module>\u001b[0;34m\u001b[0m\n\u001b[1;32m      5\u001b[0m \u001b[0mprint\u001b[0m\u001b[0;34m(\u001b[0m\u001b[0mstatsmodels\u001b[0m\u001b[0;34m.\u001b[0m\u001b[0m__version__\u001b[0m\u001b[0;34m)\u001b[0m\u001b[0;34m\u001b[0m\u001b[0;34m\u001b[0m\u001b[0m\n\u001b[1;32m      6\u001b[0m \u001b[0mprint\u001b[0m\u001b[0;34m(\u001b[0m\u001b[0msns\u001b[0m\u001b[0;34m.\u001b[0m\u001b[0m__version__\u001b[0m\u001b[0;34m)\u001b[0m\u001b[0;34m\u001b[0m\u001b[0;34m\u001b[0m\u001b[0m\n\u001b[0;32m----> 7\u001b[0;31m \u001b[0mprint\u001b[0m\u001b[0;34m(\u001b[0m\u001b[0mdt\u001b[0m\u001b[0;34m.\u001b[0m\u001b[0m__version__\u001b[0m\u001b[0;34m)\u001b[0m\u001b[0;34m\u001b[0m\u001b[0;34m\u001b[0m\u001b[0m\n\u001b[0m",
      "\u001b[0;31mAttributeError\u001b[0m: module 'datetime' has no attribute '__version__'"
     ]
    }
   ],
   "source": [
    "print(pd.__version__)\n",
    "print(np.__version__)\n",
    "print(sklearn.__version__)\n",
    "print('pmdarima','1.15.0')\n",
    "print(statsmodels.__version__)\n",
    "print(sns.__version__)\n",
    "print(dt.__version__)"
   ]
  },
  {
   "cell_type": "code",
   "execution_count": 58,
   "metadata": {},
   "outputs": [
    {
     "ename": "ModuleNotFoundError",
     "evalue": "No module named 'datetime.datetime'; 'datetime' is not a package",
     "output_type": "error",
     "traceback": [
      "\u001b[0;31m---------------------------------------------------------------------------\u001b[0m",
      "\u001b[0;31mModuleNotFoundError\u001b[0m                       Traceback (most recent call last)",
      "\u001b[0;32m<ipython-input-58-636871b4f763>\u001b[0m in \u001b[0;36m<module>\u001b[0;34m\u001b[0m\n\u001b[1;32m      1\u001b[0m \u001b[0;32mimport\u001b[0m \u001b[0mseaborn\u001b[0m \u001b[0;32mas\u001b[0m \u001b[0msns\u001b[0m\u001b[0;34m\u001b[0m\u001b[0;34m\u001b[0m\u001b[0m\n\u001b[0;32m----> 2\u001b[0;31m \u001b[0;32mimport\u001b[0m \u001b[0mdatetime\u001b[0m\u001b[0;34m.\u001b[0m\u001b[0mdatetime\u001b[0m\u001b[0;34m\u001b[0m\u001b[0;34m\u001b[0m\u001b[0m\n\u001b[0m",
      "\u001b[0;31mModuleNotFoundError\u001b[0m: No module named 'datetime.datetime'; 'datetime' is not a package"
     ]
    }
   ],
   "source": [
    "import seaborn as sns\n",
    "import datetime"
   ]
  },
  {
   "cell_type": "code",
   "execution_count": 61,
   "metadata": {
    "id": "Xo1BT72MVcI5"
   },
   "outputs": [],
   "source": [
    "import math\n",
    "from datetime import timedelta\n",
    "\n",
    "import pandas as pd\n",
    "import numpy as np\n",
    "#import Modele_NP_KWT as kwt\n",
    "#import Modele_NP_final as model_np\n",
    "from tqdm import tqdm "
   ]
  },
  {
   "cell_type": "code",
   "execution_count": null,
   "metadata": {},
   "outputs": [],
   "source": []
  },
  {
   "cell_type": "code",
   "execution_count": 59,
   "metadata": {
    "id": "hS-vxmDpVcI7"
   },
   "outputs": [],
   "source": [
    "dateDebMod = pd.to_datetime(\"2007-01-01\")\n",
    "dateFinMod = pd.to_datetime(\"2015-12-31\")\n",
    "\n",
    "hPrev = 7\n",
    "\n",
    "horizonsPrev = [7, 31+29+31, 365] #Prédictions sur une semaine, 3 mois et un an\n",
    "            \n",
    "\n",
    "database = pd.read_csv(\"/Users/h2jw/Downloads/database_sieges 2.csv\",low_memory=False,decimal=',')\n",
    "database['Coeff_Rempl']=database['PAX'].astype('float')/database[\"Sièges Corrections_ICI\"].astype('float')\n",
    "database = database.astype({'Date': 'datetime64[ns]','PAX_FQM':'float','Sièges Corrections_ICI':'float','Coeff_Rempl':'float','Coeff_Rempl_FQM':'float'})\n",
    "database = database.groupby(['Date','Faisceau','ArrDep']).agg({'PAX':'sum','PAX_FQM':'sum','Sièges Corrections_ICI':'sum','Coeff_Rempl':'mean','Coeff_Rempl_FQM':'mean'}).reset_index()\n",
    "\n",
    "Calendrier = pd.read_csv(\"/Users/h2jw/Documents/GitHub/StatApp_2020/Data/Calendrier/Calendrier.csv\", dayfirst = True , sep = ';' , parse_dates = ['Date'])\n",
    "\n",
    "histoMod = database[(database['Date']>=dateDebMod) & (database['Date']<=dateFinMod)]\n",
    "# histoMod.to_csv(\"HistoMod.csv\")\n",
    "\n",
    "histoPrev = database[(database['Date']>dateFinMod) & (database['Date']<=dateFinMod+timedelta(days = hPrev))]   \n"
   ]
  },
  {
   "cell_type": "code",
   "execution_count": 8,
   "metadata": {
    "collapsed": true
   },
   "outputs": [
    {
     "ename": "KeyboardInterrupt",
     "evalue": "",
     "output_type": "error",
     "traceback": [
      "\u001b[0;31m---------------------------------------------------------------------------\u001b[0m",
      "\u001b[0;31mKeyboardInterrupt\u001b[0m                         Traceback (most recent call last)",
      "\u001b[0;32m<ipython-input-8-a60845776b5a>\u001b[0m in \u001b[0;36m<module>\u001b[0;34m\u001b[0m\n\u001b[1;32m      9\u001b[0m \u001b[0;34m\u001b[0m\u001b[0m\n\u001b[1;32m     10\u001b[0m         \u001b[0;31m# Modèle Non-Paramétrique :\u001b[0m\u001b[0;34m\u001b[0m\u001b[0;34m\u001b[0m\u001b[0;34m\u001b[0m\u001b[0m\n\u001b[0;32m---> 11\u001b[0;31m         \u001b[0mprev_NP\u001b[0m \u001b[0;34m=\u001b[0m \u001b[0mmodel_np\u001b[0m\u001b[0;34m.\u001b[0m\u001b[0mprevisions_NP\u001b[0m\u001b[0;34m(\u001b[0m\u001b[0mhistoMod_2\u001b[0m\u001b[0;34m,\u001b[0m \u001b[0mCalendrier\u001b[0m\u001b[0;34m,\u001b[0m \u001b[0mdateDebMod\u001b[0m\u001b[0;34m,\u001b[0m \u001b[0mdateFinMod\u001b[0m\u001b[0;34m,\u001b[0m \u001b[0mhPrev\u001b[0m\u001b[0;34m)\u001b[0m\u001b[0;34m\u001b[0m\u001b[0;34m\u001b[0m\u001b[0m\n\u001b[0m\u001b[1;32m     12\u001b[0m         \u001b[0mprev_KWT\u001b[0m \u001b[0;34m=\u001b[0m \u001b[0mkwt\u001b[0m\u001b[0;34m.\u001b[0m\u001b[0mprevisions_NP_KWT\u001b[0m\u001b[0;34m(\u001b[0m\u001b[0mhistoMod_2\u001b[0m\u001b[0;34m,\u001b[0m \u001b[0mdateFinMod\u001b[0m\u001b[0;34m,\u001b[0m \u001b[0mhPrev\u001b[0m\u001b[0;34m)\u001b[0m\u001b[0;34m\u001b[0m\u001b[0;34m\u001b[0m\u001b[0m\n\u001b[1;32m     13\u001b[0m         \u001b[0mPrev_NP\u001b[0m \u001b[0;34m=\u001b[0m \u001b[0mpd\u001b[0m\u001b[0;34m.\u001b[0m\u001b[0mconcat\u001b[0m\u001b[0;34m(\u001b[0m\u001b[0;34m[\u001b[0m\u001b[0mPrev_NP\u001b[0m\u001b[0;34m,\u001b[0m \u001b[0mprev_NP\u001b[0m\u001b[0;34m]\u001b[0m\u001b[0;34m,\u001b[0m\u001b[0mignore_index\u001b[0m\u001b[0;34m=\u001b[0m\u001b[0;32mTrue\u001b[0m\u001b[0;34m)\u001b[0m\u001b[0;34m\u001b[0m\u001b[0;34m\u001b[0m\u001b[0m\n",
      "\u001b[0;32m~/Documents/GitHub/StatApp_2020/Modélisation/Modele_NP_final.py\u001b[0m in \u001b[0;36mprevisions_NP\u001b[0;34m(histoMod, Calendrier, dateDebMod, dateFinMod, hPrev, ic, tailleBlocs)\u001b[0m\n\u001b[1;32m    308\u001b[0m \u001b[0;34m\u001b[0m\u001b[0m\n\u001b[1;32m    309\u001b[0m     \u001b[0;31m# Choix de la meilleure largeur de la fenêtre : on fait appel à une recherche de type cross validation\u001b[0m\u001b[0;34m\u001b[0m\u001b[0;34m\u001b[0m\u001b[0;34m\u001b[0m\u001b[0m\n\u001b[0;32m--> 310\u001b[0;31m     \u001b[0mh\u001b[0m \u001b[0;34m=\u001b[0m \u001b[0mmeilleur_h\u001b[0m \u001b[0;34m(\u001b[0m\u001b[0mhistoMod\u001b[0m\u001b[0;34m,\u001b[0m \u001b[0mCalendrier\u001b[0m\u001b[0;34m,\u001b[0m \u001b[0mdateFinMod\u001b[0m\u001b[0;34m,\u001b[0m \u001b[0mhPrev\u001b[0m\u001b[0;34m,\u001b[0m \u001b[0mtailleBlocs\u001b[0m\u001b[0;34m)\u001b[0m\u001b[0;34m\u001b[0m\u001b[0;34m\u001b[0m\u001b[0m\n\u001b[0m\u001b[1;32m    311\u001b[0m \u001b[0;34m\u001b[0m\u001b[0m\n\u001b[1;32m    312\u001b[0m \u001b[0;34m\u001b[0m\u001b[0m\n",
      "\u001b[0;32m~/Documents/GitHub/StatApp_2020/Modélisation/Modele_NP_final.py\u001b[0m in \u001b[0;36mmeilleur_h\u001b[0;34m(histoMod, Calendrier, dateFinMod, hPrev, tailleBlocs)\u001b[0m\n\u001b[1;32m    242\u001b[0m         \u001b[0;32mfor\u001b[0m \u001b[0mk\u001b[0m \u001b[0;32min\u001b[0m \u001b[0mrange\u001b[0m\u001b[0;34m(\u001b[0m\u001b[0;36m1\u001b[0m\u001b[0;34m,\u001b[0m\u001b[0mlen\u001b[0m\u001b[0;34m(\u001b[0m\u001b[0mcandidats_h\u001b[0m\u001b[0;34m)\u001b[0m\u001b[0;34m)\u001b[0m \u001b[0;34m:\u001b[0m\u001b[0;34m\u001b[0m\u001b[0;34m\u001b[0m\u001b[0m\n\u001b[1;32m    243\u001b[0m             \u001b[0mh\u001b[0m \u001b[0;34m=\u001b[0m \u001b[0mcandidats_h\u001b[0m\u001b[0;34m[\u001b[0m\u001b[0mk\u001b[0m\u001b[0;34m]\u001b[0m\u001b[0;34m\u001b[0m\u001b[0;34m\u001b[0m\u001b[0m\n\u001b[0;32m--> 244\u001b[0;31m             \u001b[0mprevisions\u001b[0m \u001b[0;34m=\u001b[0m \u001b[0mprevisions_NP_h_fixe\u001b[0m \u001b[0;34m(\u001b[0m\u001b[0mhistoMod2\u001b[0m\u001b[0;34m,\u001b[0m \u001b[0mCalendrier\u001b[0m\u001b[0;34m,\u001b[0m \u001b[0mdateFinMod2\u001b[0m\u001b[0;34m,\u001b[0m \u001b[0minfosBlocs2\u001b[0m \u001b[0;34m,\u001b[0m \u001b[0;36m365\u001b[0m\u001b[0;34m,\u001b[0m \u001b[0mh\u001b[0m\u001b[0;34m)\u001b[0m\u001b[0;34m\u001b[0m\u001b[0;34m\u001b[0m\u001b[0m\n\u001b[0m\u001b[1;32m    245\u001b[0m             \u001b[0merreur\u001b[0m \u001b[0;34m=\u001b[0m \u001b[0mrmse\u001b[0m\u001b[0;34m(\u001b[0m\u001b[0mrealise\u001b[0m\u001b[0;34m,\u001b[0m \u001b[0mlist\u001b[0m\u001b[0;34m(\u001b[0m\u001b[0mprevisions\u001b[0m\u001b[0;34m[\u001b[0m\u001b[0;34m'PAX_NP'\u001b[0m\u001b[0;34m]\u001b[0m\u001b[0;34m)\u001b[0m\u001b[0;34m)\u001b[0m\u001b[0;34m\u001b[0m\u001b[0;34m\u001b[0m\u001b[0m\n\u001b[1;32m    246\u001b[0m \u001b[0;34m\u001b[0m\u001b[0m\n",
      "\u001b[0;32m~/Documents/GitHub/StatApp_2020/Modélisation/Modele_NP_final.py\u001b[0m in \u001b[0;36mprevisions_NP_h_fixe\u001b[0;34m(histoMod, Calendrier, dateFinMod, infosBlocs, hPrev, h, ic, tailleBlocs)\u001b[0m\n\u001b[1;32m    123\u001b[0m \u001b[0;34m\u001b[0m\u001b[0m\n\u001b[1;32m    124\u001b[0m         \u001b[0mweightsPrev\u001b[0m \u001b[0;34m=\u001b[0m \u001b[0mnp\u001b[0m\u001b[0;34m.\u001b[0m\u001b[0mnan_to_num\u001b[0m\u001b[0;34m(\u001b[0m\u001b[0mweightsPrev\u001b[0m\u001b[0;34m)\u001b[0m \u001b[0;31m#permet de remplacer les éventuels Nan par 0 (nécéssaire pour l'échantillonnage)\u001b[0m\u001b[0;34m\u001b[0m\u001b[0;34m\u001b[0m\u001b[0m\n\u001b[0;32m--> 125\u001b[0;31m         \u001b[0mweightsPrev\u001b[0m \u001b[0;34m=\u001b[0m \u001b[0mpd\u001b[0m\u001b[0;34m.\u001b[0m\u001b[0mDataFrame\u001b[0m\u001b[0;34m(\u001b[0m\u001b[0mweightsPrev\u001b[0m\u001b[0;34m)\u001b[0m\u001b[0;34m\u001b[0m\u001b[0;34m\u001b[0m\u001b[0m\n\u001b[0m\u001b[1;32m    126\u001b[0m \u001b[0;34m\u001b[0m\u001b[0m\n\u001b[1;32m    127\u001b[0m \u001b[0;34m\u001b[0m\u001b[0m\n",
      "\u001b[0;32m~/opt/anaconda3/lib/python3.8/site-packages/pandas/core/frame.py\u001b[0m in \u001b[0;36m__init__\u001b[0;34m(self, data, index, columns, dtype, copy)\u001b[0m\n\u001b[1;32m    495\u001b[0m                 \u001b[0mmgr\u001b[0m \u001b[0;34m=\u001b[0m \u001b[0minit_dict\u001b[0m\u001b[0;34m(\u001b[0m\u001b[0;34m{\u001b[0m\u001b[0mdata\u001b[0m\u001b[0;34m.\u001b[0m\u001b[0mname\u001b[0m\u001b[0;34m:\u001b[0m \u001b[0mdata\u001b[0m\u001b[0;34m}\u001b[0m\u001b[0;34m,\u001b[0m \u001b[0mindex\u001b[0m\u001b[0;34m,\u001b[0m \u001b[0mcolumns\u001b[0m\u001b[0;34m,\u001b[0m \u001b[0mdtype\u001b[0m\u001b[0;34m=\u001b[0m\u001b[0mdtype\u001b[0m\u001b[0;34m)\u001b[0m\u001b[0;34m\u001b[0m\u001b[0;34m\u001b[0m\u001b[0m\n\u001b[1;32m    496\u001b[0m             \u001b[0;32melse\u001b[0m\u001b[0;34m:\u001b[0m\u001b[0;34m\u001b[0m\u001b[0;34m\u001b[0m\u001b[0m\n\u001b[0;32m--> 497\u001b[0;31m                 \u001b[0mmgr\u001b[0m \u001b[0;34m=\u001b[0m \u001b[0minit_ndarray\u001b[0m\u001b[0;34m(\u001b[0m\u001b[0mdata\u001b[0m\u001b[0;34m,\u001b[0m \u001b[0mindex\u001b[0m\u001b[0;34m,\u001b[0m \u001b[0mcolumns\u001b[0m\u001b[0;34m,\u001b[0m \u001b[0mdtype\u001b[0m\u001b[0;34m=\u001b[0m\u001b[0mdtype\u001b[0m\u001b[0;34m,\u001b[0m \u001b[0mcopy\u001b[0m\u001b[0;34m=\u001b[0m\u001b[0mcopy\u001b[0m\u001b[0;34m)\u001b[0m\u001b[0;34m\u001b[0m\u001b[0;34m\u001b[0m\u001b[0m\n\u001b[0m\u001b[1;32m    498\u001b[0m \u001b[0;34m\u001b[0m\u001b[0m\n\u001b[1;32m    499\u001b[0m         \u001b[0;31m# For data is list-like, or Iterable (will consume into list)\u001b[0m\u001b[0;34m\u001b[0m\u001b[0;34m\u001b[0m\u001b[0;34m\u001b[0m\u001b[0m\n",
      "\u001b[0;32m~/opt/anaconda3/lib/python3.8/site-packages/pandas/core/internals/construction.py\u001b[0m in \u001b[0;36minit_ndarray\u001b[0;34m(values, index, columns, dtype, copy)\u001b[0m\n\u001b[1;32m    232\u001b[0m         \u001b[0mblock_values\u001b[0m \u001b[0;34m=\u001b[0m \u001b[0;34m[\u001b[0m\u001b[0mvalues\u001b[0m\u001b[0;34m]\u001b[0m\u001b[0;34m\u001b[0m\u001b[0;34m\u001b[0m\u001b[0m\n\u001b[1;32m    233\u001b[0m \u001b[0;34m\u001b[0m\u001b[0m\n\u001b[0;32m--> 234\u001b[0;31m     \u001b[0;32mreturn\u001b[0m \u001b[0mcreate_block_manager_from_blocks\u001b[0m\u001b[0;34m(\u001b[0m\u001b[0mblock_values\u001b[0m\u001b[0;34m,\u001b[0m \u001b[0;34m[\u001b[0m\u001b[0mcolumns\u001b[0m\u001b[0;34m,\u001b[0m \u001b[0mindex\u001b[0m\u001b[0;34m]\u001b[0m\u001b[0;34m)\u001b[0m\u001b[0;34m\u001b[0m\u001b[0;34m\u001b[0m\u001b[0m\n\u001b[0m\u001b[1;32m    235\u001b[0m \u001b[0;34m\u001b[0m\u001b[0m\n\u001b[1;32m    236\u001b[0m \u001b[0;34m\u001b[0m\u001b[0m\n",
      "\u001b[0;32m~/opt/anaconda3/lib/python3.8/site-packages/pandas/core/internals/managers.py\u001b[0m in \u001b[0;36mcreate_block_manager_from_blocks\u001b[0;34m(blocks, axes)\u001b[0m\n\u001b[1;32m   1660\u001b[0m                 \u001b[0;31m# converting, it's an error anyway.\u001b[0m\u001b[0;34m\u001b[0m\u001b[0;34m\u001b[0m\u001b[0;34m\u001b[0m\u001b[0m\n\u001b[1;32m   1661\u001b[0m                 blocks = [\n\u001b[0;32m-> 1662\u001b[0;31m                     \u001b[0mmake_block\u001b[0m\u001b[0;34m(\u001b[0m\u001b[0mvalues\u001b[0m\u001b[0;34m=\u001b[0m\u001b[0mblocks\u001b[0m\u001b[0;34m[\u001b[0m\u001b[0;36m0\u001b[0m\u001b[0;34m]\u001b[0m\u001b[0;34m,\u001b[0m \u001b[0mplacement\u001b[0m\u001b[0;34m=\u001b[0m\u001b[0mslice\u001b[0m\u001b[0;34m(\u001b[0m\u001b[0;36m0\u001b[0m\u001b[0;34m,\u001b[0m \u001b[0mlen\u001b[0m\u001b[0;34m(\u001b[0m\u001b[0maxes\u001b[0m\u001b[0;34m[\u001b[0m\u001b[0;36m0\u001b[0m\u001b[0;34m]\u001b[0m\u001b[0;34m)\u001b[0m\u001b[0;34m)\u001b[0m\u001b[0;34m)\u001b[0m\u001b[0;34m\u001b[0m\u001b[0;34m\u001b[0m\u001b[0m\n\u001b[0m\u001b[1;32m   1663\u001b[0m                 ]\n\u001b[1;32m   1664\u001b[0m \u001b[0;34m\u001b[0m\u001b[0m\n",
      "\u001b[0;32m~/opt/anaconda3/lib/python3.8/site-packages/pandas/core/internals/blocks.py\u001b[0m in \u001b[0;36mmake_block\u001b[0;34m(values, placement, klass, ndim, dtype)\u001b[0m\n\u001b[1;32m   2713\u001b[0m     \u001b[0;32mif\u001b[0m \u001b[0mklass\u001b[0m \u001b[0;32mis\u001b[0m \u001b[0;32mNone\u001b[0m\u001b[0;34m:\u001b[0m\u001b[0;34m\u001b[0m\u001b[0;34m\u001b[0m\u001b[0m\n\u001b[1;32m   2714\u001b[0m         \u001b[0mdtype\u001b[0m \u001b[0;34m=\u001b[0m \u001b[0mdtype\u001b[0m \u001b[0;32mor\u001b[0m \u001b[0mvalues\u001b[0m\u001b[0;34m.\u001b[0m\u001b[0mdtype\u001b[0m\u001b[0;34m\u001b[0m\u001b[0;34m\u001b[0m\u001b[0m\n\u001b[0;32m-> 2715\u001b[0;31m         \u001b[0mklass\u001b[0m \u001b[0;34m=\u001b[0m \u001b[0mget_block_type\u001b[0m\u001b[0;34m(\u001b[0m\u001b[0mvalues\u001b[0m\u001b[0;34m,\u001b[0m \u001b[0mdtype\u001b[0m\u001b[0;34m)\u001b[0m\u001b[0;34m\u001b[0m\u001b[0;34m\u001b[0m\u001b[0m\n\u001b[0m\u001b[1;32m   2716\u001b[0m \u001b[0;34m\u001b[0m\u001b[0m\n\u001b[1;32m   2717\u001b[0m     \u001b[0;32melif\u001b[0m \u001b[0mklass\u001b[0m \u001b[0;32mis\u001b[0m \u001b[0mDatetimeTZBlock\u001b[0m \u001b[0;32mand\u001b[0m \u001b[0;32mnot\u001b[0m \u001b[0mis_datetime64tz_dtype\u001b[0m\u001b[0;34m(\u001b[0m\u001b[0mvalues\u001b[0m\u001b[0;34m.\u001b[0m\u001b[0mdtype\u001b[0m\u001b[0;34m)\u001b[0m\u001b[0;34m:\u001b[0m\u001b[0;34m\u001b[0m\u001b[0;34m\u001b[0m\u001b[0m\n",
      "\u001b[0;32m~/opt/anaconda3/lib/python3.8/site-packages/pandas/core/internals/blocks.py\u001b[0m in \u001b[0;36mget_block_type\u001b[0;34m(values, dtype)\u001b[0m\n\u001b[1;32m   2677\u001b[0m         \u001b[0;32massert\u001b[0m \u001b[0;32mnot\u001b[0m \u001b[0mis_datetime64tz_dtype\u001b[0m\u001b[0;34m(\u001b[0m\u001b[0mvalues\u001b[0m\u001b[0;34m.\u001b[0m\u001b[0mdtype\u001b[0m\u001b[0;34m)\u001b[0m\u001b[0;34m\u001b[0m\u001b[0;34m\u001b[0m\u001b[0m\n\u001b[1;32m   2678\u001b[0m         \u001b[0mcls\u001b[0m \u001b[0;34m=\u001b[0m \u001b[0mDatetimeBlock\u001b[0m\u001b[0;34m\u001b[0m\u001b[0;34m\u001b[0m\u001b[0m\n\u001b[0;32m-> 2679\u001b[0;31m     \u001b[0;32melif\u001b[0m \u001b[0mis_datetime64tz_dtype\u001b[0m\u001b[0;34m(\u001b[0m\u001b[0mvalues\u001b[0m\u001b[0;34m.\u001b[0m\u001b[0mdtype\u001b[0m\u001b[0;34m)\u001b[0m\u001b[0;34m:\u001b[0m\u001b[0;34m\u001b[0m\u001b[0;34m\u001b[0m\u001b[0m\n\u001b[0m\u001b[1;32m   2680\u001b[0m         \u001b[0mcls\u001b[0m \u001b[0;34m=\u001b[0m \u001b[0mDatetimeTZBlock\u001b[0m\u001b[0;34m\u001b[0m\u001b[0;34m\u001b[0m\u001b[0m\n\u001b[1;32m   2681\u001b[0m     \u001b[0;32melif\u001b[0m \u001b[0mis_interval_dtype\u001b[0m\u001b[0;34m(\u001b[0m\u001b[0mdtype\u001b[0m\u001b[0;34m)\u001b[0m \u001b[0;32mor\u001b[0m \u001b[0mis_period_dtype\u001b[0m\u001b[0;34m(\u001b[0m\u001b[0mdtype\u001b[0m\u001b[0;34m)\u001b[0m\u001b[0;34m:\u001b[0m\u001b[0;34m\u001b[0m\u001b[0;34m\u001b[0m\u001b[0m\n",
      "\u001b[0;32m~/opt/anaconda3/lib/python3.8/site-packages/pandas/core/dtypes/common.py\u001b[0m in \u001b[0;36mis_datetime64tz_dtype\u001b[0;34m(arr_or_dtype)\u001b[0m\n\u001b[1;32m    417\u001b[0m     \u001b[0;32mif\u001b[0m \u001b[0marr_or_dtype\u001b[0m \u001b[0;32mis\u001b[0m \u001b[0;32mNone\u001b[0m\u001b[0;34m:\u001b[0m\u001b[0;34m\u001b[0m\u001b[0;34m\u001b[0m\u001b[0m\n\u001b[1;32m    418\u001b[0m         \u001b[0;32mreturn\u001b[0m \u001b[0;32mFalse\u001b[0m\u001b[0;34m\u001b[0m\u001b[0;34m\u001b[0m\u001b[0m\n\u001b[0;32m--> 419\u001b[0;31m     \u001b[0;32mreturn\u001b[0m \u001b[0mDatetimeTZDtype\u001b[0m\u001b[0;34m.\u001b[0m\u001b[0mis_dtype\u001b[0m\u001b[0;34m(\u001b[0m\u001b[0marr_or_dtype\u001b[0m\u001b[0;34m)\u001b[0m\u001b[0;34m\u001b[0m\u001b[0;34m\u001b[0m\u001b[0m\n\u001b[0m\u001b[1;32m    420\u001b[0m \u001b[0;34m\u001b[0m\u001b[0m\n\u001b[1;32m    421\u001b[0m \u001b[0;34m\u001b[0m\u001b[0m\n",
      "\u001b[0;32m~/opt/anaconda3/lib/python3.8/site-packages/pandas/core/dtypes/base.py\u001b[0m in \u001b[0;36mis_dtype\u001b[0;34m(cls, dtype)\u001b[0m\n\u001b[1;32m    280\u001b[0m         \u001b[0mdtype\u001b[0m \u001b[0;34m=\u001b[0m \u001b[0mgetattr\u001b[0m\u001b[0;34m(\u001b[0m\u001b[0mdtype\u001b[0m\u001b[0;34m,\u001b[0m \u001b[0;34m\"dtype\"\u001b[0m\u001b[0;34m,\u001b[0m \u001b[0mdtype\u001b[0m\u001b[0;34m)\u001b[0m\u001b[0;34m\u001b[0m\u001b[0;34m\u001b[0m\u001b[0m\n\u001b[1;32m    281\u001b[0m \u001b[0;34m\u001b[0m\u001b[0m\n\u001b[0;32m--> 282\u001b[0;31m         \u001b[0;32mif\u001b[0m \u001b[0misinstance\u001b[0m\u001b[0;34m(\u001b[0m\u001b[0mdtype\u001b[0m\u001b[0;34m,\u001b[0m \u001b[0;34m(\u001b[0m\u001b[0mABCSeries\u001b[0m\u001b[0;34m,\u001b[0m \u001b[0mABCIndexClass\u001b[0m\u001b[0;34m,\u001b[0m \u001b[0mABCDataFrame\u001b[0m\u001b[0;34m,\u001b[0m \u001b[0mnp\u001b[0m\u001b[0;34m.\u001b[0m\u001b[0mdtype\u001b[0m\u001b[0;34m)\u001b[0m\u001b[0;34m)\u001b[0m\u001b[0;34m:\u001b[0m\u001b[0;34m\u001b[0m\u001b[0;34m\u001b[0m\u001b[0m\n\u001b[0m\u001b[1;32m    283\u001b[0m             \u001b[0;31m# https://github.com/pandas-dev/pandas/issues/22960\u001b[0m\u001b[0;34m\u001b[0m\u001b[0;34m\u001b[0m\u001b[0;34m\u001b[0m\u001b[0m\n\u001b[1;32m    284\u001b[0m             \u001b[0;31m# avoid passing data to `construct_from_string`. This could\u001b[0m\u001b[0;34m\u001b[0m\u001b[0;34m\u001b[0m\u001b[0;34m\u001b[0m\u001b[0m\n",
      "\u001b[0;32m~/opt/anaconda3/lib/python3.8/site-packages/pandas/core/dtypes/generic.py\u001b[0m in \u001b[0;36m_check\u001b[0;34m(cls, inst)\u001b[0m\n\u001b[1;32m     10\u001b[0m     \u001b[0;34m@\u001b[0m\u001b[0mclassmethod\u001b[0m  \u001b[0;31m# type: ignore\u001b[0m\u001b[0;34m\u001b[0m\u001b[0;34m\u001b[0m\u001b[0m\n\u001b[1;32m     11\u001b[0m     \u001b[0;32mdef\u001b[0m \u001b[0m_check\u001b[0m\u001b[0;34m(\u001b[0m\u001b[0mcls\u001b[0m\u001b[0;34m,\u001b[0m \u001b[0minst\u001b[0m\u001b[0;34m)\u001b[0m \u001b[0;34m->\u001b[0m \u001b[0mbool\u001b[0m\u001b[0;34m:\u001b[0m\u001b[0;34m\u001b[0m\u001b[0;34m\u001b[0m\u001b[0m\n\u001b[0;32m---> 12\u001b[0;31m         \u001b[0;32mreturn\u001b[0m \u001b[0mgetattr\u001b[0m\u001b[0;34m(\u001b[0m\u001b[0minst\u001b[0m\u001b[0;34m,\u001b[0m \u001b[0mattr\u001b[0m\u001b[0;34m,\u001b[0m \u001b[0;34m\"_typ\"\u001b[0m\u001b[0;34m)\u001b[0m \u001b[0;32min\u001b[0m \u001b[0mcomp\u001b[0m\u001b[0;34m\u001b[0m\u001b[0;34m\u001b[0m\u001b[0m\n\u001b[0m\u001b[1;32m     13\u001b[0m \u001b[0;34m\u001b[0m\u001b[0m\n\u001b[1;32m     14\u001b[0m     \u001b[0mdct\u001b[0m \u001b[0;34m=\u001b[0m \u001b[0mdict\u001b[0m\u001b[0;34m(\u001b[0m\u001b[0m__instancecheck__\u001b[0m\u001b[0;34m=\u001b[0m\u001b[0m_check\u001b[0m\u001b[0;34m,\u001b[0m \u001b[0m__subclasscheck__\u001b[0m\u001b[0;34m=\u001b[0m\u001b[0m_check\u001b[0m\u001b[0;34m)\u001b[0m\u001b[0;34m\u001b[0m\u001b[0;34m\u001b[0m\u001b[0m\n",
      "\u001b[0;31mKeyboardInterrupt\u001b[0m: "
     ]
    }
   ],
   "source": [
    "\n",
    "Prev_NP = pd.DataFrame()\n",
    "Prev_KWT = pd.DataFrame()\n",
    "\n",
    "for faisceau in ['National', 'Schengen', 'Autre UE', 'International', 'Dom Tom'] :\n",
    "    for mvt in ['Arrivée', 'Départ'] :\n",
    "\n",
    "        histoMod_2 = histoMod[(histoMod['Faisceau']==faisceau) & (histoMod['ArrDep']==mvt)]\n",
    "\n",
    "\n",
    "        # Modèle Non-Paramétrique :\n",
    "        prev_NP = model_np.previsions_NP(histoMod_2, Calendrier, dateDebMod, dateFinMod, hPrev)\n",
    "        prev_KWT = kwt.previsions_NP_KWT(histoMod_2, dateFinMod, hPrev)\n",
    "        Prev_NP = pd.concat([Prev_NP, prev_NP],ignore_index=True)  \n",
    "        Prev_KWT = pd.concat([Prev_KWT, prev_KWT])\n",
    "\n",
    "\n",
    "# Ajout des prévisions du modèle NP et NP avec ondelettes à histoPrev           \n",
    "histoPrev = pd.concat([histoPrev.set_index(['Date','Faisceau','ArrDep']),Prev_NP.set_index(['Date','Faisceau','ArrDep']),Prev_KWT.set_index(['Date','Faisceau','ArrDep'])],axis=1)\n",
    "histoPrev = histoPrev.reset_index()\n",
    "\n",
    "\n",
    "\n"
   ]
  },
  {
   "cell_type": "code",
   "execution_count": null,
   "metadata": {
    "id": "BhTmDv71VcI8"
   },
   "outputs": [],
   "source": [
    "histoPrev.to_csv('prev_7_jours.csv')"
   ]
  },
  {
   "cell_type": "code",
   "execution_count": null,
   "metadata": {
    "id": "K41tIM6YVcI9",
    "outputId": "09c132f1-629d-4dd4-b96a-466f28fe2157",
    "scrolled": true
   },
   "outputs": [
    {
     "data": {
      "text/html": [
       "<div>\n",
       "<style scoped>\n",
       "    .dataframe tbody tr th:only-of-type {\n",
       "        vertical-align: middle;\n",
       "    }\n",
       "\n",
       "    .dataframe tbody tr th {\n",
       "        vertical-align: top;\n",
       "    }\n",
       "\n",
       "    .dataframe thead th {\n",
       "        text-align: right;\n",
       "    }\n",
       "</style>\n",
       "<table border=\"1\" class=\"dataframe\">\n",
       "  <thead>\n",
       "    <tr style=\"text-align: right;\">\n",
       "      <th></th>\n",
       "      <th>Date</th>\n",
       "      <th>Faisceau</th>\n",
       "      <th>ArrDep</th>\n",
       "      <th>PAX</th>\n",
       "      <th>PAX_FQM</th>\n",
       "      <th>Sièges Corrections_ICI</th>\n",
       "      <th>Coeff_Rempl</th>\n",
       "      <th>Coeff_Rempl_FQM</th>\n",
       "      <th>PAX_NP</th>\n",
       "      <th>IC95.0_low_NP</th>\n",
       "      <th>IC95.0_up_NP</th>\n",
       "      <th>PAX_NP</th>\n",
       "    </tr>\n",
       "  </thead>\n",
       "  <tbody>\n",
       "    <tr>\n",
       "      <th>0</th>\n",
       "      <td>2016-01-01</td>\n",
       "      <td>Autre UE</td>\n",
       "      <td>Arrivée</td>\n",
       "      <td>621</td>\n",
       "      <td>567.00</td>\n",
       "      <td>877.311749</td>\n",
       "      <td>0.667869</td>\n",
       "      <td>0.685714</td>\n",
       "      <td>484.689369</td>\n",
       "      <td>426.155061</td>\n",
       "      <td>584.663376</td>\n",
       "      <td>708.255442</td>\n",
       "    </tr>\n",
       "    <tr>\n",
       "      <th>1</th>\n",
       "      <td>2016-01-01</td>\n",
       "      <td>Autre UE</td>\n",
       "      <td>Départ</td>\n",
       "      <td>561</td>\n",
       "      <td>564.30</td>\n",
       "      <td>737.750683</td>\n",
       "      <td>0.757917</td>\n",
       "      <td>0.833333</td>\n",
       "      <td>936.163248</td>\n",
       "      <td>520.510773</td>\n",
       "      <td>1100.283716</td>\n",
       "      <td>713.697185</td>\n",
       "    </tr>\n",
       "    <tr>\n",
       "      <th>2</th>\n",
       "      <td>2016-01-01</td>\n",
       "      <td>Dom Tom</td>\n",
       "      <td>Arrivée</td>\n",
       "      <td>4946</td>\n",
       "      <td>5175.43</td>\n",
       "      <td>5550.247131</td>\n",
       "      <td>0.881251</td>\n",
       "      <td>0.912857</td>\n",
       "      <td>5135.608859</td>\n",
       "      <td>4187.852415</td>\n",
       "      <td>5648.799399</td>\n",
       "      <td>5046.753321</td>\n",
       "    </tr>\n",
       "    <tr>\n",
       "      <th>3</th>\n",
       "      <td>2016-01-01</td>\n",
       "      <td>Dom Tom</td>\n",
       "      <td>Départ</td>\n",
       "      <td>4282</td>\n",
       "      <td>4333.00</td>\n",
       "      <td>6103.909119</td>\n",
       "      <td>0.703995</td>\n",
       "      <td>0.675000</td>\n",
       "      <td>5243.083772</td>\n",
       "      <td>4281.222365</td>\n",
       "      <td>5880.438877</td>\n",
       "      <td>5320.410494</td>\n",
       "    </tr>\n",
       "    <tr>\n",
       "      <th>4</th>\n",
       "      <td>2016-01-01</td>\n",
       "      <td>International</td>\n",
       "      <td>Arrivée</td>\n",
       "      <td>7557</td>\n",
       "      <td>8100.04</td>\n",
       "      <td>9713.552023</td>\n",
       "      <td>0.777457</td>\n",
       "      <td>0.853077</td>\n",
       "      <td>10163.016864</td>\n",
       "      <td>8564.040412</td>\n",
       "      <td>10957.498650</td>\n",
       "      <td>8378.636710</td>\n",
       "    </tr>\n",
       "  </tbody>\n",
       "</table>\n",
       "</div>"
      ],
      "text/plain": [
       "        Date       Faisceau   ArrDep   PAX  PAX_FQM  Sièges Corrections_ICI  \\\n",
       "0 2016-01-01       Autre UE  Arrivée   621   567.00              877.311749   \n",
       "1 2016-01-01       Autre UE   Départ   561   564.30              737.750683   \n",
       "2 2016-01-01        Dom Tom  Arrivée  4946  5175.43             5550.247131   \n",
       "3 2016-01-01        Dom Tom   Départ  4282  4333.00             6103.909119   \n",
       "4 2016-01-01  International  Arrivée  7557  8100.04             9713.552023   \n",
       "\n",
       "   Coeff_Rempl  Coeff_Rempl_FQM        PAX_NP  IC95.0_low_NP  IC95.0_up_NP  \\\n",
       "0     0.667869         0.685714    484.689369     426.155061    584.663376   \n",
       "1     0.757917         0.833333    936.163248     520.510773   1100.283716   \n",
       "2     0.881251         0.912857   5135.608859    4187.852415   5648.799399   \n",
       "3     0.703995         0.675000   5243.083772    4281.222365   5880.438877   \n",
       "4     0.777457         0.853077  10163.016864    8564.040412  10957.498650   \n",
       "\n",
       "        PAX_NP  \n",
       "0   708.255442  \n",
       "1   713.697185  \n",
       "2  5046.753321  \n",
       "3  5320.410494  \n",
       "4  8378.636710  "
      ]
     },
     "execution_count": 38,
     "metadata": {
      "tags": []
     },
     "output_type": "execute_result"
    }
   ],
   "source": [
    "histoPrev.head()"
   ]
  },
  {
   "cell_type": "code",
   "execution_count": null,
   "metadata": {
    "id": "pC49XHWYVcI-",
    "outputId": "6f0a3176-88f8-425b-959b-0194c1a70c88"
   },
   "outputs": [
    {
     "data": {
      "text/plain": [
       "<AxesSubplot:>"
      ]
     },
     "execution_count": 39,
     "metadata": {
      "tags": []
     },
     "output_type": "execute_result"
    },
    {
     "data": {
      "image/png": "[encoded data removed]",
      "text/plain": [
       "<Figure size 432x288 with 1 Axes>"
      ]
     },
     "metadata": {
      "needs_background": "light",
      "tags": []
     },
     "output_type": "display_data"
    }
   ],
   "source": [
    "histoPrev[['PAX_NP','PAX', 'PAX_FQM']].plot()"
   ]
  },
  {
   "cell_type": "code",
   "execution_count": 23,
   "metadata": {
    "id": "cY4vBR_FVeep"
   },
   "outputs": [],
   "source": [
    "%matplotlib inline"
   ]
  },
  {
   "cell_type": "markdown",
   "metadata": {
    "id": "gv15-kTDoaT4"
   },
   "source": [
    "# Brouillon pour IC lasso"
   ]
  },
  {
   "cell_type": "code",
   "execution_count": 24,
   "metadata": {
    "colab": {
     "base_uri": "https://localhost:8080/",
     "height": 470
    },
    "id": "wnczbK8lVeMb",
    "outputId": "1211f2a2-ddfc-42b5-c1a2-781dbcec6540"
   },
   "outputs": [
    {
     "data": {
      "text/plain": [
       "[<matplotlib.lines.Line2D at 0x7fda3aaf3760>]"
      ]
     },
     "execution_count": 24,
     "metadata": {},
     "output_type": "execute_result"
    },
    {
     "data": {
      "image/png": "[encoded data removed]",
      "text/plain": [
       "<Figure size 864x576 with 1 Axes>"
      ]
     },
     "metadata": {
      "needs_background": "light"
     },
     "output_type": "display_data"
    }
   ],
   "source": [
    "import numpy as np\n",
    "import matplotlib.pyplot as plt\n",
    "from sklearn.linear_model import LassoCV\n",
    "from sklearn.ensemble import BaggingRegressor\n",
    "\n",
    "# Create toy data \n",
    "x = np.linspace(0, 10, 20)\n",
    "y = x + (np.random.rand(len(x)) * 10)\n",
    "\n",
    "# Extend x data to contain another row vector of 1s\n",
    "X = np.vstack([x, np.ones(len(x))]).T\n",
    "\n",
    "n_estimators = 50\n",
    "\n",
    "model = BaggingRegressor(LassoCV(cv=5, random_state=0), \n",
    "                         n_estimators=n_estimators,\n",
    "                         bootstrap=True)\n",
    "\n",
    "model.fit(X, y)\n",
    "\n",
    "plt.figure(figsize=(12,8))\n",
    "\n",
    "# Accessing each base_estimator (already fitted)\n",
    "for m in model.estimators_:\n",
    "    plt.plot(x, m.predict(X), color='grey', alpha=0.2, zorder=1)\n",
    "\n",
    "plt.scatter(x,y, marker='o', color='orange', zorder=4)\n",
    "\n",
    "# \"Bagging model\" prediction\n",
    "plt.plot(x, model.predict(X), color='red', zorder=5)"
   ]
  },
  {
   "cell_type": "markdown",
   "metadata": {},
   "source": [
    "# Méthode qui ne fonctionne que sur de l'univarié "
   ]
  },
  {
   "cell_type": "code",
   "execution_count": 15,
   "metadata": {
    "colab": {
     "base_uri": "https://localhost:8080/"
    },
    "id": "yPDkx-SxYkxD",
    "outputId": "aa5c60f4-1ae1-43fa-9b1b-233d7aa12a56",
    "scrolled": false
   },
   "outputs": [
    {
     "ename": "NameError",
     "evalue": "name 'BaggingRegressor' is not defined",
     "output_type": "error",
     "traceback": [
      "\u001b[0;31m---------------------------------------------------------------------------\u001b[0m",
      "\u001b[0;31mNameError\u001b[0m                                 Traceback (most recent call last)",
      "\u001b[0;32m<ipython-input-15-2433eb2fe4f3>\u001b[0m in \u001b[0;36m<module>\u001b[0;34m\u001b[0m\n\u001b[1;32m     14\u001b[0m \u001b[0;34m\u001b[0m\u001b[0m\n\u001b[1;32m     15\u001b[0m \u001b[0;34m\u001b[0m\u001b[0m\n\u001b[0;32m---> 16\u001b[0;31m reg= BaggingRegressor(LassoCV(cv=5, random_state=0), \n\u001b[0m\u001b[1;32m     17\u001b[0m                          bootstrap=True)\n\u001b[1;32m     18\u001b[0m \u001b[0;34m\u001b[0m\u001b[0m\n",
      "\u001b[0;31mNameError\u001b[0m: name 'BaggingRegressor' is not defined"
     ]
    }
   ],
   "source": [
    "#!pip install mlinsights\n",
    "from numpy.random import randn, binomial, rand\n",
    "N = 200\n",
    "X = rand(N, 1) * 2\n",
    "eps = randn(N, 1) * 0.2\n",
    "eps2 = randn(N, 1) + 1\n",
    "bin = binomial(2, 0.05, size=(N, 1))\n",
    "y = (0.5 * X + eps + 2 + eps2 * bin).ravel()\n",
    "\n",
    "from sklearn.model_selection import train_test_split\n",
    "X_train, X_test, y_train, y_test = train_test_split(X, y)\n",
    "\n",
    "from mlinsights.mlmodel import IntervalRegressor\n",
    "\n",
    "\n",
    "reg= BaggingRegressor(LassoCV(cv=5, random_state=0), \n",
    "                         bootstrap=True)\n",
    "\n",
    "model = IntervalRegressor(alpha=0.05, estimator=reg)\n",
    "model.fit(X_train, y_train)\n",
    "\n",
    "sorted_X = np.array(list(sorted(X)))\n",
    "pred = model.predict(sorted_X)\n",
    "bootstrapped_pred = model.predict_sorted(sorted_X)\n",
    "min_pred = bootstrapped_pred[:, 0]\n",
    "max_pred = bootstrapped_pred[:, bootstrapped_pred.shape[1]-1]\n",
    "\n",
    "\n",
    "fig, ax = plt.subplots(1, 1, figsize=(4, 4))\n",
    "ax.plot(X_test, y_test, '.', label=\"raw\")\n",
    "ax.plot(sorted_X, pred, label=\"prediction\")\n",
    "ax.plot(sorted_X, min_pred, '--', label=\"min\")\n",
    "ax.plot(sorted_X, max_pred, '--', label=\"max\")\n",
    "ax.legend();"
   ]
  },
  {
   "cell_type": "markdown",
   "metadata": {},
   "source": [
    "# Méthode existante en R : inférence sélective"
   ]
  },
  {
   "cell_type": "markdown",
   "metadata": {},
   "source": [
    "Documentation : Il existe des problèmes d'inférence au modèle Lasso (https://cran.r-project.org/web/packages/penalized/vignettes/penalized.pdf p.18). \n",
    "\n",
    "Solution apportée dans le package selective-inference https://pypi.org/project/selectinf/ (détail Git : https://github.com/selective-inference/Python-software) et les articles suivants : \n",
    "- https://www.stat.cmu.edu/~ryantibs/papers/lassoinf.pdf \n",
    "- https://cran.r-project.org/web/packages/selectiveInference/selectiveInference.pdf\n"
   ]
  },
  {
   "cell_type": "code",
   "execution_count": 80,
   "metadata": {},
   "outputs": [
    {
     "name": "stderr",
     "output_type": "stream",
     "text": [
      "/Users/h2jw/opt/anaconda3/lib/python3.8/site-packages/ipykernel/ipkernel.py:287: DeprecationWarning: `should_run_async` will not call `transform_cell` automatically in the future. Please pass the result to `transformed_cell` argument and any exception that happen during thetransform in `preprocessing_exc_tuple` in IPython 7.17 and above.\n",
      "  and should_run_async(code)\n"
     ]
    },
    {
     "name": "stdout",
     "output_type": "stream",
     "text": [
      "Collecting selectinf\n",
      "  Downloading selectinf-0.1.3.tar.gz (18.4 MB)\n",
      "\u001b[K     |████████████████████████████████| 18.4 MB 5.1 MB/s eta 0:00:01     |█████████████████▉              | 10.3 MB 6.3 MB/s eta 0:00:02     |███████████████████▎            | 11.1 MB 6.3 MB/s eta 0:00:02\n",
      "\u001b[?25hBuilding wheels for collected packages: selectinf\n",
      "  Building wheel for selectinf (setup.py) ... \u001b[?25ldone\n",
      "\u001b[?25h  Created wheel for selectinf: filename=selectinf-0+unknown-cp38-cp38-macosx_10_9_x86_64.whl size=598525 sha256=4fde75e978292340ddd89fd5bcef584575d047a5d4dc86b17fdab33a68201f86\n",
      "  Stored in directory: /Users/h2jw/Library/Caches/pip/wheels/48/88/fd/40f014d50fa7ec7b8f75e402571d77476ea24c943e9e86f64c\n",
      "Successfully built selectinf\n",
      "Installing collected packages: selectinf\n",
      "Successfully installed selectinf-0+unknown\n"
     ]
    }
   ],
   "source": [
    "! pip install selectinf"
   ]
  },
  {
   "cell_type": "code",
   "execution_count": 82,
   "metadata": {
    "scrolled": true
   },
   "outputs": [
    {
     "name": "stdout",
     "output_type": "stream",
     "text": [
      "Help on package selectinf:\n",
      "\n",
      "NAME\n",
      "    selectinf\n",
      "\n",
      "PACKAGE CONTENTS\n",
      "    _version\n",
      "    algorithms (package)\n",
      "    api\n",
      "    base\n",
      "    constraints (package)\n",
      "    distributions (package)\n",
      "    glm\n",
      "    info\n",
      "    learning (package)\n",
      "    randomized (package)\n",
      "    sampling (package)\n",
      "    tests (package)\n",
      "    truncated (package)\n",
      "    utils (package)\n",
      "\n",
      "FILE\n",
      "    /Users/h2jw/opt/anaconda3/lib/python3.8/site-packages/selectinf/__init__.py\n",
      "\n",
      "\n"
     ]
    }
   ],
   "source": [
    "import selectinf\n",
    "help(selectinf)"
   ]
  },
  {
   "cell_type": "markdown",
   "metadata": {},
   "source": [
    "# Tentative bootstrap"
   ]
  },
  {
   "cell_type": "code",
   "execution_count": 14,
   "metadata": {},
   "outputs": [
    {
     "ename": "NameError",
     "evalue": "name 'BaggingRegressor' is not defined",
     "output_type": "error",
     "traceback": [
      "\u001b[0;31m---------------------------------------------------------------------------\u001b[0m",
      "\u001b[0;31mNameError\u001b[0m                                 Traceback (most recent call last)",
      "\u001b[0;32m<ipython-input-14-521816850b13>\u001b[0m in \u001b[0;36m<module>\u001b[0;34m\u001b[0m\n\u001b[1;32m     11\u001b[0m \u001b[0;34m\u001b[0m\u001b[0m\n\u001b[1;32m     12\u001b[0m \u001b[0;34m\u001b[0m\u001b[0m\n\u001b[0;32m---> 13\u001b[0;31m reg= BaggingRegressor(LassoCV(cv=5, random_state=0), n_estimators=200,\n\u001b[0m\u001b[1;32m     14\u001b[0m                          bootstrap=True)\n\u001b[1;32m     15\u001b[0m \u001b[0;34m\u001b[0m\u001b[0m\n",
      "\u001b[0;31mNameError\u001b[0m: name 'BaggingRegressor' is not defined"
     ]
    }
   ],
   "source": [
    "from numpy.random import randn, binomial, rand\n",
    "N = 200\n",
    "X = rand(N, 1) * 2\n",
    "eps = randn(N, 1) * 0.2\n",
    "eps2 = randn(N, 1) + 1\n",
    "bin = binomial(2, 0.05, size=(N, 1))\n",
    "y = (0.5 * X + eps + 2 + eps2 * bin).ravel()\n",
    "\n",
    "from sklearn.model_selection import train_test_split\n",
    "X_train, X_test, y_train, y_test = train_test_split(X, y)\n",
    "\n",
    "\n",
    "reg= BaggingRegressor(LassoCV(cv=5, random_state=0), n_estimators=200,\n",
    "                         bootstrap=True)\n",
    "\n",
    "\n",
    "reg.fit(X_train, y_train)\n",
    "\n",
    "pred = reg.predict(X)\n",
    "\n",
    "\n",
    "fig, ax = plt.subplots(1, 1, figsize=(4, 4))\n",
    "ax.plot(X_test, y_test, '.', label=\"raw\")\n",
    "ax.plot(X, pred, label=\"prediction\")\n",
    "#ax.plot(X, min_pred, '--', label=\"min\")\n",
    "#ax.plot(X, max_pred, '--', label=\"max\")\n",
    "ax.legend();"
   ]
  },
  {
   "cell_type": "code",
   "execution_count": null,
   "metadata": {},
   "outputs": [],
   "source": [
    "\n",
    "\n",
    "model.fit(X_train, y_train)\n",
    "\n",
    "sorted_X = numpy.array(list(sorted(X)))\n",
    "pred = model.predict(sorted_X)\n",
    "bootstrapped_pred = model.predict_sorted(sorted_X)\n",
    "min_pred = bootstrapped_pred[:, 0]\n",
    "max_pred = bootstrapped_pred[:, bootstrapped_pred.shape[1]-1]\n",
    "\n",
    "\n",
    "fig, ax = plt.subplots(1, 1, figsize=(4, 4))\n",
    "ax.plot(X_test, y_test, '.', label=\"raw\")\n",
    "ax.plot(sorted_X, pred, label=\"prediction\")\n",
    "ax.plot(sorted_X, min_pred, '--', label=\"min\")\n",
    "ax.plot(sorted_X, max_pred, '--', label=\"max\")\n",
    "ax.legend();"
   ]
  },
  {
   "cell_type": "code",
   "execution_count": 115,
   "metadata": {
    "scrolled": true
   },
   "outputs": [
    {
     "data": {
      "text/plain": [
       "{'base_estimator__alphas': None,\n",
       " 'base_estimator__copy_X': True,\n",
       " 'base_estimator__cv': 5,\n",
       " 'base_estimator__eps': 0.001,\n",
       " 'base_estimator__fit_intercept': True,\n",
       " 'base_estimator__max_iter': 1000,\n",
       " 'base_estimator__n_alphas': 100,\n",
       " 'base_estimator__n_jobs': None,\n",
       " 'base_estimator__normalize': False,\n",
       " 'base_estimator__positive': False,\n",
       " 'base_estimator__precompute': 'auto',\n",
       " 'base_estimator__random_state': 0,\n",
       " 'base_estimator__selection': 'cyclic',\n",
       " 'base_estimator__tol': 0.0001,\n",
       " 'base_estimator__verbose': False,\n",
       " 'base_estimator': LassoCV(cv=5, random_state=0),\n",
       " 'bootstrap': True,\n",
       " 'bootstrap_features': False,\n",
       " 'max_features': 1.0,\n",
       " 'max_samples': 1.0,\n",
       " 'n_estimators': 5,\n",
       " 'n_jobs': None,\n",
       " 'oob_score': False,\n",
       " 'random_state': None,\n",
       " 'verbose': 0,\n",
       " 'warm_start': False}"
      ]
     },
     "execution_count": 115,
     "metadata": {},
     "output_type": "execute_result"
    }
   ],
   "source": [
    "reg.get_params()"
   ]
  },
  {
   "cell_type": "code",
   "execution_count": 181,
   "metadata": {},
   "outputs": [
    {
     "data": {
      "text/plain": [
       "50"
      ]
     },
     "execution_count": 181,
     "metadata": {},
     "output_type": "execute_result"
    }
   ],
   "source": [
    "len(X_test)"
   ]
  },
  {
   "cell_type": "code",
   "execution_count": 122,
   "metadata": {},
   "outputs": [
    {
     "name": "stderr",
     "output_type": "stream",
     "text": [
      "/Users/h2jw/opt/anaconda3/lib/python3.8/site-packages/ipykernel/ipkernel.py:287: DeprecationWarning: `should_run_async` will not call `transform_cell` automatically in the future. Please pass the result to `transformed_cell` argument and any exception that happen during thetransform in `preprocessing_exc_tuple` in IPython 7.17 and above.\n",
      "  and should_run_async(code)\n"
     ]
    },
    {
     "data": {
      "text/plain": [
       "[<matplotlib.lines.Line2D at 0x7f9ea6ae0ca0>]"
      ]
     },
     "execution_count": 122,
     "metadata": {},
     "output_type": "execute_result"
    },
    {
     "data": {
      "image/png": "[encoded data removed]",
      "text/plain": [
       "<Figure size 432x288 with 1 Axes>"
      ]
     },
     "metadata": {
      "needs_background": "light"
     },
     "output_type": "display_data"
    }
   ],
   "source": [
    "# Accessing each base_estimator (already fitted)\n",
    "\n",
    "for m in reg.estimators_:\n",
    "    plt.plot(X_test, m.predict(X_test), color='grey', alpha=0.95, zorder=1)\n",
    "    list_pred.append(m.predict(X_test))\n",
    "\n",
    "plt.scatter(X_test,y_test, marker='o', color='orange', zorder=4)\n",
    "\n",
    "# \"Bagging model\" prediction\n",
    "plt.plot(X, pred, color='red', zorder=5)\n"
   ]
  },
  {
   "cell_type": "code",
   "execution_count": 185,
   "metadata": {},
   "outputs": [
    {
     "name": "stderr",
     "output_type": "stream",
     "text": [
      "/Users/h2jw/opt/anaconda3/lib/python3.8/site-packages/ipykernel/ipkernel.py:287: DeprecationWarning: `should_run_async` will not call `transform_cell` automatically in the future. Please pass the result to `transformed_cell` argument and any exception that happen during thetransform in `preprocessing_exc_tuple` in IPython 7.17 and above.\n",
      "  and should_run_async(code)\n"
     ]
    },
    {
     "data": {
      "text/plain": [
       "[<matplotlib.lines.Line2D at 0x7f9e823000a0>]"
      ]
     },
     "execution_count": 185,
     "metadata": {},
     "output_type": "execute_result"
    },
    {
     "data": {
      "image/png": "[encoded data removed]",
      "text/plain": [
       "<Figure size 432x288 with 1 Axes>"
      ]
     },
     "metadata": {
      "needs_background": "light"
     },
     "output_type": "display_data"
    }
   ],
   "source": [
    "list_pred = []\n",
    "for m in reg.estimators_:\n",
    "    plt.plot(X_test, m.predict(X_test), color='grey', alpha=1, zorder=1)\n",
    "    list_pred.append(m.predict(X_test))\n",
    "\n",
    "plt.scatter(X_test,y_test, marker='o', color='orange', zorder=4)\n",
    "\n",
    "# \"Bagging model\" prediction\n",
    "plt.plot(X, pred, color='red', zorder=5)\n",
    "\n"
   ]
  },
  {
   "cell_type": "code",
   "execution_count": 182,
   "metadata": {},
   "outputs": [],
   "source": [
    "lp_t = np.array(list_pred).transpose()"
   ]
  },
  {
   "cell_type": "code",
   "execution_count": 168,
   "metadata": {},
   "outputs": [
    {
     "data": {
      "text/plain": [
       "(200, 50)"
      ]
     },
     "execution_count": 168,
     "metadata": {},
     "output_type": "execute_result"
    }
   ],
   "source": [
    "np.shape(lp_t)"
   ]
  },
  {
   "cell_type": "code",
   "execution_count": 172,
   "metadata": {},
   "outputs": [
    {
     "data": {
      "text/plain": [
       "50"
      ]
     },
     "execution_count": 172,
     "metadata": {},
     "output_type": "execute_result"
    }
   ],
   "source": [
    "len(lp_t[0,:])"
   ]
  },
  {
   "cell_type": "code",
   "execution_count": 183,
   "metadata": {},
   "outputs": [
    {
     "data": {
      "application/vnd.jupyter.widget-view+json": {
       "model_id": "0482454338924ed7a340a3b7e90752a4",
       "version_major": 2,
       "version_minor": 0
      },
      "text/plain": [
       "HBox(children=(HTML(value=''), FloatProgress(value=0.0, max=50.0), HTML(value='')))"
      ]
     },
     "metadata": {},
     "output_type": "display_data"
    },
    {
     "name": "stdout",
     "output_type": "stream",
     "text": [
      "\n"
     ]
    }
   ],
   "source": [
    "min_pred, max_pred = [],[]\n",
    "for i in trange(50):\n",
    "    min_pred.append(min(lp_t[i,:]))\n",
    "    max_pred.append(max(lp_t[i,:]))"
   ]
  },
  {
   "cell_type": "code",
   "execution_count": null,
   "metadata": {},
   "outputs": [],
   "source": []
  },
  {
   "cell_type": "code",
   "execution_count": 184,
   "metadata": {},
   "outputs": [
    {
     "data": {
      "text/plain": [
       "[<matplotlib.lines.Line2D at 0x7f9e8203f9d0>]"
      ]
     },
     "execution_count": 184,
     "metadata": {},
     "output_type": "execute_result"
    },
    {
     "data": {
      "image/png": "[encoded data removed]",
      "text/plain": [
       "<Figure size 432x288 with 1 Axes>"
      ]
     },
     "metadata": {
      "needs_background": "light"
     },
     "output_type": "display_data"
    }
   ],
   "source": [
    "plt.scatter(X_test,y_test, marker='o', color='orange', zorder=4)\n",
    "\n",
    "# \"Bagging model\" prediction\n",
    "plt.plot(X, pred, color='red', zorder=5)\n",
    "plt.plot(X_test, min_pred, color='green')\n",
    "plt.plot(X_test, max_pred, color='blue')"
   ]
  },
  {
   "cell_type": "code",
   "execution_count": null,
   "metadata": {},
   "outputs": [],
   "source": []
  },
  {
   "cell_type": "markdown",
   "metadata": {},
   "source": [
    "# Tentative retenue"
   ]
  },
  {
   "cell_type": "code",
   "execution_count": 6,
   "metadata": {
    "id": "5IUPAR1NYgml"
   },
   "outputs": [
    {
     "data": {
      "text/html": [
       "<div>\n",
       "<style scoped>\n",
       "    .dataframe tbody tr th:only-of-type {\n",
       "        vertical-align: middle;\n",
       "    }\n",
       "\n",
       "    .dataframe tbody tr th {\n",
       "        vertical-align: top;\n",
       "    }\n",
       "\n",
       "    .dataframe thead th {\n",
       "        text-align: right;\n",
       "    }\n",
       "</style>\n",
       "<table border=\"1\" class=\"dataframe\">\n",
       "  <thead>\n",
       "    <tr style=\"text-align: right;\">\n",
       "      <th></th>\n",
       "      <th>Date</th>\n",
       "      <th>Faisceau</th>\n",
       "      <th>ArrDep</th>\n",
       "      <th>PAX</th>\n",
       "      <th>PAX_FQM</th>\n",
       "      <th>Sièges Corrections_ICI</th>\n",
       "      <th>Coeff_Rempl</th>\n",
       "      <th>Coeff_Rempl_FQM</th>\n",
       "    </tr>\n",
       "  </thead>\n",
       "  <tbody>\n",
       "    <tr>\n",
       "      <th>0</th>\n",
       "      <td>2008-01-01</td>\n",
       "      <td>Autre UE</td>\n",
       "      <td>Arrivée</td>\n",
       "      <td>242</td>\n",
       "      <td>0.00000</td>\n",
       "      <td>296.205128</td>\n",
       "      <td>0.817001</td>\n",
       "      <td>NaN</td>\n",
       "    </tr>\n",
       "    <tr>\n",
       "      <th>1</th>\n",
       "      <td>2008-01-01</td>\n",
       "      <td>Autre UE</td>\n",
       "      <td>Départ</td>\n",
       "      <td>267</td>\n",
       "      <td>0.00000</td>\n",
       "      <td>391.237671</td>\n",
       "      <td>0.663779</td>\n",
       "      <td>NaN</td>\n",
       "    </tr>\n",
       "    <tr>\n",
       "      <th>2</th>\n",
       "      <td>2008-01-01</td>\n",
       "      <td>Dom Tom</td>\n",
       "      <td>Arrivée</td>\n",
       "      <td>4122</td>\n",
       "      <td>0.00000</td>\n",
       "      <td>4371.843733</td>\n",
       "      <td>0.956682</td>\n",
       "      <td>NaN</td>\n",
       "    </tr>\n",
       "    <tr>\n",
       "      <th>3</th>\n",
       "      <td>2008-01-01</td>\n",
       "      <td>Dom Tom</td>\n",
       "      <td>Départ</td>\n",
       "      <td>2730</td>\n",
       "      <td>0.00000</td>\n",
       "      <td>4903.660937</td>\n",
       "      <td>0.585989</td>\n",
       "      <td>NaN</td>\n",
       "    </tr>\n",
       "    <tr>\n",
       "      <th>4</th>\n",
       "      <td>2008-01-01</td>\n",
       "      <td>International</td>\n",
       "      <td>Arrivée</td>\n",
       "      <td>8323</td>\n",
       "      <td>0.00000</td>\n",
       "      <td>9600.446843</td>\n",
       "      <td>0.855056</td>\n",
       "      <td>NaN</td>\n",
       "    </tr>\n",
       "    <tr>\n",
       "      <th>...</th>\n",
       "      <td>...</td>\n",
       "      <td>...</td>\n",
       "      <td>...</td>\n",
       "      <td>...</td>\n",
       "      <td>...</td>\n",
       "      <td>...</td>\n",
       "      <td>...</td>\n",
       "      <td>...</td>\n",
       "    </tr>\n",
       "    <tr>\n",
       "      <th>32700</th>\n",
       "      <td>2016-12-31</td>\n",
       "      <td>International</td>\n",
       "      <td>Départ</td>\n",
       "      <td>8340</td>\n",
       "      <td>7395.69703</td>\n",
       "      <td>13372.873191</td>\n",
       "      <td>0.641940</td>\n",
       "      <td>0.564379</td>\n",
       "    </tr>\n",
       "    <tr>\n",
       "      <th>32701</th>\n",
       "      <td>2016-12-31</td>\n",
       "      <td>National</td>\n",
       "      <td>Arrivée</td>\n",
       "      <td>11008</td>\n",
       "      <td>9263.22000</td>\n",
       "      <td>14453.786561</td>\n",
       "      <td>0.774203</td>\n",
       "      <td>0.671477</td>\n",
       "    </tr>\n",
       "    <tr>\n",
       "      <th>32702</th>\n",
       "      <td>2016-12-31</td>\n",
       "      <td>National</td>\n",
       "      <td>Départ</td>\n",
       "      <td>8055</td>\n",
       "      <td>8338.10000</td>\n",
       "      <td>12025.994075</td>\n",
       "      <td>0.681883</td>\n",
       "      <td>0.700649</td>\n",
       "    </tr>\n",
       "    <tr>\n",
       "      <th>32703</th>\n",
       "      <td>2016-12-31</td>\n",
       "      <td>Schengen</td>\n",
       "      <td>Arrivée</td>\n",
       "      <td>13414</td>\n",
       "      <td>11939.36000</td>\n",
       "      <td>14558.234320</td>\n",
       "      <td>0.930659</td>\n",
       "      <td>0.825949</td>\n",
       "    </tr>\n",
       "    <tr>\n",
       "      <th>32704</th>\n",
       "      <td>2016-12-31</td>\n",
       "      <td>Schengen</td>\n",
       "      <td>Départ</td>\n",
       "      <td>10707</td>\n",
       "      <td>10066.54000</td>\n",
       "      <td>14718.854328</td>\n",
       "      <td>0.724935</td>\n",
       "      <td>0.689259</td>\n",
       "    </tr>\n",
       "  </tbody>\n",
       "</table>\n",
       "<p>32705 rows × 8 columns</p>\n",
       "</div>"
      ],
      "text/plain": [
       "            Date       Faisceau   ArrDep    PAX      PAX_FQM  \\\n",
       "0     2008-01-01       Autre UE  Arrivée    242      0.00000   \n",
       "1     2008-01-01       Autre UE   Départ    267      0.00000   \n",
       "2     2008-01-01        Dom Tom  Arrivée   4122      0.00000   \n",
       "3     2008-01-01        Dom Tom   Départ   2730      0.00000   \n",
       "4     2008-01-01  International  Arrivée   8323      0.00000   \n",
       "...          ...            ...      ...    ...          ...   \n",
       "32700 2016-12-31  International   Départ   8340   7395.69703   \n",
       "32701 2016-12-31       National  Arrivée  11008   9263.22000   \n",
       "32702 2016-12-31       National   Départ   8055   8338.10000   \n",
       "32703 2016-12-31       Schengen  Arrivée  13414  11939.36000   \n",
       "32704 2016-12-31       Schengen   Départ  10707  10066.54000   \n",
       "\n",
       "       Sièges Corrections_ICI  Coeff_Rempl  Coeff_Rempl_FQM  \n",
       "0                  296.205128     0.817001              NaN  \n",
       "1                  391.237671     0.663779              NaN  \n",
       "2                 4371.843733     0.956682              NaN  \n",
       "3                 4903.660937     0.585989              NaN  \n",
       "4                 9600.446843     0.855056              NaN  \n",
       "...                       ...          ...              ...  \n",
       "32700            13372.873191     0.641940         0.564379  \n",
       "32701            14453.786561     0.774203         0.671477  \n",
       "32702            12025.994075     0.681883         0.700649  \n",
       "32703            14558.234320     0.930659         0.825949  \n",
       "32704            14718.854328     0.724935         0.689259  \n",
       "\n",
       "[32705 rows x 8 columns]"
      ]
     },
     "execution_count": 6,
     "metadata": {},
     "output_type": "execute_result"
    }
   ],
   "source": [
    "import math\n",
    "from datetime import timedelta\n",
    "import pandas as pd\n",
    "import numpy as np"
   ]
  },
  {
   "cell_type": "code",
   "execution_count": 67,
   "metadata": {
    "scrolled": false
   },
   "outputs": [
    {
     "name": "stdout",
     "output_type": "stream",
     "text": [
      "(91, 300) (29045, 300)\n"
     ]
    }
   ],
   "source": [
    "from sklearn.preprocessing import OneHotEncoder\n",
    "import numpy as np\n",
    "import matplotlib.pyplot as plt\n",
    "from tqdm.notebook import trange\n",
    "from sklearn.linear_model import LassoCV\n",
    "\n",
    "dateDebMod = pd.to_datetime(\"2007-01-01\")\n",
    "dateFinMod = pd.to_datetime(\"2015-12-31\")\n",
    "hPrev=91\n",
    "ic=0.95\n",
    "\n",
    "database = pd.read_csv(\"/Users/h2jw/Downloads/database_sieges 2.csv\",low_memory=False,decimal=',')\n",
    "database['Coeff_Rempl']=database['PAX'].astype('float')/database[\"Sièges Corrections_ICI\"].astype('float')\n",
    "database = database.astype({'Date': 'datetime64[ns]','PAX_FQM':'float','Sièges Corrections_ICI':'float','Coeff_Rempl':'float','Coeff_Rempl_FQM':'float'})\n",
    "database = database.groupby(['Date','Faisceau','ArrDep']).agg({'PAX':'sum','PAX_FQM':'sum','Sièges Corrections_ICI':'sum','Coeff_Rempl':'mean','Coeff_Rempl_FQM':'mean'}).reset_index()\n",
    "\n",
    "Calendrier = pd.read_csv(\"/Users/h2jw/Documents/GitHub/StatApp_2020/Data/Calendrier/Calendrier.csv\", dayfirst = True , sep = ';' , parse_dates = ['Date'])\n",
    "\n",
    "# Sélection des variables d'intérêt du Calendrier : \n",
    "colonnesCalendrier = [\"Mois\" , \"JourSem\" , \"Semaine\" , \"LunF\" , \"MarF\" , \n",
    "                          \"Mer1F\" , \"Mer2F\" , \"JeuF\" , \"VenF\" ,\"SamF\" , \"DimF\" , \"Vac_Toussaint\" , \"Vac_Noel\" ,\n",
    "                          \"Vac_Hiver_A\" , \"Vac_Hiver_B\" , \"Vac_Hiver_C\" ,\"Vac_Printemps_A\" , \"Vac_Printemps_B\" , \"Vac_Printemps_C\" ,\"Vac_Ete\"]\n",
    "Calendrier = Calendrier[[\"Date\"]+colonnesCalendrier]\n",
    "Calendrier = Calendrier.fillna(0)\n",
    "\n",
    "\n",
    "histoMod = database[(database['Date']>=dateDebMod) & (database['Date']<=dateFinMod)]\n",
    "\n",
    "# Idée : on transforme les colonnes de vacances en indicatrices qui valent 1 si on est en première semaine de vacances (variable <= med(variable))\n",
    "# for k in range(1,10) :\n",
    "#     mediane_k = Calendrier[colonnesCalendrier[-k]].median()\n",
    "#     Calendrier[colonnesCalendrier[-k]] = Calendrier[colonnesCalendrier[-k]] <= mediane_k\n",
    "# => sur le test Schengen/Arrivées/hPrev=7j, ça diminue le score du modèle...\n",
    "\n",
    "X_pred = []\n",
    "X_mod=[]\n",
    "# Augmentation histo & Récupération données utilisées pour l'entrainement :\n",
    "histoMod = pd.concat([histoMod.set_index('Date'), Calendrier.set_index('Date')], axis=1, join=\"inner\")\n",
    "histoMod = histoMod.reset_index()\n",
    "y_mod = histoMod['PAX']\n",
    "X_mod = histoMod[colonnesCalendrier]\n",
    "\n",
    "\n",
    "# Récupération données utilisées pour les prédictions :\n",
    "X_pred = Calendrier[(Calendrier['Date']>dateFinMod)&(Calendrier['Date']<=dateFinMod+timedelta(days=hPrev))]\n",
    "X_pred = X_pred[colonnesCalendrier]\n",
    "\n",
    "# Création des indicatrices pour chaque colonne du calendrier ayant plus de 2 modalités (JourSem, Mois, ...) :\n",
    "encodeur = OneHotEncoder(drop='first').fit(X_mod)\n",
    "X_mod = encodeur.transform(X_mod).toarray()\n",
    "X_pred = encodeur.transform(X_pred).toarray()\n",
    "        # la commande drop='first' permet d'enlever l'une des indicatrices à chaque fois (la première arbitrairement)\n",
    "\n",
    "\n",
    "print(np.shape(X_pred),np.shape(X_mod))\n"
   ]
  },
  {
   "cell_type": "code",
   "execution_count": 65,
   "metadata": {},
   "outputs": [],
   "source": [
    "def prediction_interval(model, X_train, y_train, x0, alpha):\n",
    "  ''' Compute a prediction interval around the model's prediction of x0.\n",
    "\n",
    "  INPUT\n",
    "    model\n",
    "      A predictive model with `fit` and `predict` methods\n",
    "    X_train: numpy array of shape (n_samples, n_features)\n",
    "      A numpy array containing the training input data\n",
    "    y_train: numpy array of shape (n_samples,)\n",
    "      A numpy array containing the training target data\n",
    "    x0\n",
    "      A new data point, of shape (n_features,)\n",
    "    alpha: float = 0.05\n",
    "      The prediction uncertainty\n",
    "\n",
    "  OUTPUT\n",
    "    A triple (`lower`, `pred`, `upper`) with `pred` being the prediction\n",
    "    of the model and `lower` and `upper` constituting the lower- and upper\n",
    "    bounds for the prediction interval around `pred`, respectively. '''\n",
    "\n",
    "  # Number of training samples\n",
    "  n = X_train.shape[0]\n",
    "\n",
    "  # We choose to make 1000 bootstraps\n",
    "  nbootstraps=1000\n",
    "\n",
    "  # Compute the m_i's and the validation residuals\n",
    "  bootstrap_preds, val_residuals = pd.DataFrame(), []\n",
    "  for b in trange(nbootstraps):\n",
    "    train_idxs = np.random.choice(range(n), size = n, replace = True)\n",
    "    val_idxs = np.array([idx for idx in range(n) if idx not in train_idxs])\n",
    "    model.fit(X_train[train_idxs, :], y_train[train_idxs])\n",
    "    preds = model.predict(X_train[val_idxs])\n",
    "    val_residuals.append(y_train[val_idxs] - preds)\n",
    "    \n",
    "\n",
    "    bootstrap_preds[b] = model.predict(x0)\n",
    "  bootstrap_preds -= np.mean(bootstrap_preds)\n",
    "  val_residuals = np.concatenate(val_residuals)\n",
    "\n",
    "  # Compute the prediction and the training residuals\n",
    "  model.fit(X_train, y_train)\n",
    "  preds = model.predict(X_train)\n",
    "  train_residuals = y_train - preds\n",
    "\n",
    "  # Take percentiles of the training- and validation residuals to enable\n",
    "  # comparisons between them\n",
    "  val_residuals = np.percentile(val_residuals, q = np.arange(100))\n",
    "  train_residuals = np.percentile(train_residuals, q = np.arange(100))\n",
    "\n",
    "  # Compute the .632+ bootstrap estimate for the sample noise and bias\n",
    "  no_information_error = np.mean(np.abs(np.random.permutation(y_train) - \\\n",
    "    np.random.permutation(preds)))\n",
    "  generalisation = np.abs(val_residuals.mean() - train_residuals.mean())\n",
    "  no_information_val = np.abs(no_information_error - train_residuals)\n",
    "  relative_overfitting_rate = np.mean(generalisation / no_information_val)\n",
    "  weight = .632 / (1 - .368 * relative_overfitting_rate)\n",
    "  residuals = (1 - weight) * train_residuals + weight * val_residuals\n",
    "\n",
    "  # Construct the C set and get the percentiles\n",
    "  C = np.array([m + o for m in bootstrap_preds for o in residuals])\n",
    "  qs = [100 * alpha / 2, 100 * (1 - alpha / 2)]\n",
    "  percentiles = np.percentile(C, q = qs)\n",
    "\n",
    "  return percentiles[0], model.predict(x0), percentiles[1]"
   ]
  },
  {
   "cell_type": "code",
   "execution_count": 68,
   "metadata": {
    "scrolled": true
   },
   "outputs": [
    {
     "data": {
      "application/vnd.jupyter.widget-view+json": {
       "model_id": "ba515cc985d34559a096b60736e7f936",
       "version_major": 2,
       "version_minor": 0
      },
      "text/plain": [
       "HBox(children=(HTML(value=''), FloatProgress(value=0.0, max=1000.0), HTML(value='')))"
      ]
     },
     "metadata": {},
     "output_type": "display_data"
    },
    {
     "name": "stderr",
     "output_type": "stream",
     "text": [
      "/Users/h2jw/opt/anaconda3/lib/python3.8/site-packages/sklearn/linear_model/_coordinate_descent.py:525: ConvergenceWarning: Objective did not converge. You might want to increase the number of iterations. Duality gap: 76656005.63806152, tolerance: 73203133.51422526\n",
      "  model = cd_fast.enet_coordinate_descent_gram(\n",
      "/Users/h2jw/opt/anaconda3/lib/python3.8/site-packages/sklearn/linear_model/_coordinate_descent.py:525: ConvergenceWarning: Objective did not converge. You might want to increase the number of iterations. Duality gap: 80665326.41503906, tolerance: 73203133.51422526\n",
      "  model = cd_fast.enet_coordinate_descent_gram(\n",
      "/Users/h2jw/opt/anaconda3/lib/python3.8/site-packages/sklearn/linear_model/_coordinate_descent.py:525: ConvergenceWarning: Objective did not converge. You might want to increase the number of iterations. Duality gap: 92960735.64953613, tolerance: 73203133.51422526\n",
      "  model = cd_fast.enet_coordinate_descent_gram(\n",
      "/Users/h2jw/opt/anaconda3/lib/python3.8/site-packages/sklearn/linear_model/_coordinate_descent.py:525: ConvergenceWarning: Objective did not converge. You might want to increase the number of iterations. Duality gap: 98054181.81542969, tolerance: 72068277.86960398\n",
      "  model = cd_fast.enet_coordinate_descent_gram(\n",
      "/Users/h2jw/opt/anaconda3/lib/python3.8/site-packages/sklearn/linear_model/_coordinate_descent.py:525: ConvergenceWarning: Objective did not converge. You might want to increase the number of iterations. Duality gap: 103331518.41333008, tolerance: 72068277.86960398\n",
      "  model = cd_fast.enet_coordinate_descent_gram(\n",
      "/Users/h2jw/opt/anaconda3/lib/python3.8/site-packages/sklearn/linear_model/_coordinate_descent.py:525: ConvergenceWarning: Objective did not converge. You might want to increase the number of iterations. Duality gap: 104488799.54785156, tolerance: 72068277.86960398\n",
      "  model = cd_fast.enet_coordinate_descent_gram(\n",
      "/Users/h2jw/opt/anaconda3/lib/python3.8/site-packages/sklearn/linear_model/_coordinate_descent.py:525: ConvergenceWarning: Objective did not converge. You might want to increase the number of iterations. Duality gap: 88780702.42297363, tolerance: 71716184.02035497\n",
      "  model = cd_fast.enet_coordinate_descent_gram(\n",
      "/Users/h2jw/opt/anaconda3/lib/python3.8/site-packages/sklearn/linear_model/_coordinate_descent.py:525: ConvergenceWarning: Objective did not converge. You might want to increase the number of iterations. Duality gap: 81293258.25305176, tolerance: 71716184.02035497\n",
      "  model = cd_fast.enet_coordinate_descent_gram(\n",
      "/Users/h2jw/opt/anaconda3/lib/python3.8/site-packages/sklearn/linear_model/_coordinate_descent.py:525: ConvergenceWarning: Objective did not converge. You might want to increase the number of iterations. Duality gap: 92582928.34631348, tolerance: 71716184.02035497\n",
      "  model = cd_fast.enet_coordinate_descent_gram(\n",
      "/Users/h2jw/opt/anaconda3/lib/python3.8/site-packages/sklearn/linear_model/_coordinate_descent.py:525: ConvergenceWarning: Objective did not converge. You might want to increase the number of iterations. Duality gap: 72679396.85559082, tolerance: 71773101.04692337\n",
      "  model = cd_fast.enet_coordinate_descent_gram(\n",
      "/Users/h2jw/opt/anaconda3/lib/python3.8/site-packages/sklearn/linear_model/_coordinate_descent.py:525: ConvergenceWarning: Objective did not converge. You might want to increase the number of iterations. Duality gap: 90588476.0904541, tolerance: 71773101.04692337\n",
      "  model = cd_fast.enet_coordinate_descent_gram(\n",
      "/Users/h2jw/opt/anaconda3/lib/python3.8/site-packages/sklearn/linear_model/_coordinate_descent.py:525: ConvergenceWarning: Objective did not converge. You might want to increase the number of iterations. Duality gap: 90107221.1850586, tolerance: 71773101.04692337\n",
      "  model = cd_fast.enet_coordinate_descent_gram(\n",
      "/Users/h2jw/opt/anaconda3/lib/python3.8/site-packages/sklearn/linear_model/_coordinate_descent.py:525: ConvergenceWarning: Objective did not converge. You might want to increase the number of iterations. Duality gap: 82075561.91101074, tolerance: 72251058.25053802\n",
      "  model = cd_fast.enet_coordinate_descent_gram(\n",
      "/Users/h2jw/opt/anaconda3/lib/python3.8/site-packages/sklearn/linear_model/_coordinate_descent.py:525: ConvergenceWarning: Objective did not converge. You might want to increase the number of iterations. Duality gap: 91127932.36791992, tolerance: 72503839.21776372\n",
      "  model = cd_fast.enet_coordinate_descent_gram(\n",
      "/Users/h2jw/opt/anaconda3/lib/python3.8/site-packages/sklearn/linear_model/_coordinate_descent.py:525: ConvergenceWarning: Objective did not converge. You might want to increase the number of iterations. Duality gap: 79803608.7055664, tolerance: 73414874.6119648\n",
      "  model = cd_fast.enet_coordinate_descent_gram(\n",
      "/Users/h2jw/opt/anaconda3/lib/python3.8/site-packages/sklearn/linear_model/_coordinate_descent.py:525: ConvergenceWarning: Objective did not converge. You might want to increase the number of iterations. Duality gap: 87718564.39855957, tolerance: 73414874.6119648\n",
      "  model = cd_fast.enet_coordinate_descent_gram(\n",
      "/Users/h2jw/opt/anaconda3/lib/python3.8/site-packages/sklearn/linear_model/_coordinate_descent.py:525: ConvergenceWarning: Objective did not converge. You might want to increase the number of iterations. Duality gap: 88218129.55371094, tolerance: 73414874.6119648\n",
      "  model = cd_fast.enet_coordinate_descent_gram(\n",
      "/Users/h2jw/opt/anaconda3/lib/python3.8/site-packages/sklearn/linear_model/_coordinate_descent.py:525: ConvergenceWarning: Objective did not converge. You might want to increase the number of iterations. Duality gap: 86632655.81994629, tolerance: 72590411.76610795\n",
      "  model = cd_fast.enet_coordinate_descent_gram(\n",
      "/Users/h2jw/opt/anaconda3/lib/python3.8/site-packages/sklearn/linear_model/_coordinate_descent.py:525: ConvergenceWarning: Objective did not converge. You might want to increase the number of iterations. Duality gap: 87141962.66333008, tolerance: 72590411.76610795\n",
      "  model = cd_fast.enet_coordinate_descent_gram(\n",
      "/Users/h2jw/opt/anaconda3/lib/python3.8/site-packages/sklearn/linear_model/_coordinate_descent.py:525: ConvergenceWarning: Objective did not converge. You might want to increase the number of iterations. Duality gap: 76776562.9946289, tolerance: 73010250.97743732\n",
      "  model = cd_fast.enet_coordinate_descent_gram(\n",
      "/Users/h2jw/opt/anaconda3/lib/python3.8/site-packages/sklearn/linear_model/_coordinate_descent.py:525: ConvergenceWarning: Objective did not converge. You might want to increase the number of iterations. Duality gap: 76022846.26660156, tolerance: 73010250.97743732\n",
      "  model = cd_fast.enet_coordinate_descent_gram(\n",
      "/Users/h2jw/opt/anaconda3/lib/python3.8/site-packages/sklearn/linear_model/_coordinate_descent.py:525: ConvergenceWarning: Objective did not converge. You might want to increase the number of iterations. Duality gap: 92082292.63903809, tolerance: 72337455.80161865\n",
      "  model = cd_fast.enet_coordinate_descent_gram(\n",
      "/Users/h2jw/opt/anaconda3/lib/python3.8/site-packages/sklearn/linear_model/_coordinate_descent.py:525: ConvergenceWarning: Objective did not converge. You might want to increase the number of iterations. Duality gap: 74233785.09399414, tolerance: 73346500.78719527\n",
      "  model = cd_fast.enet_coordinate_descent_gram(\n",
      "/Users/h2jw/opt/anaconda3/lib/python3.8/site-packages/sklearn/linear_model/_coordinate_descent.py:525: ConvergenceWarning: Objective did not converge. You might want to increase the number of iterations. Duality gap: 74227695.00341797, tolerance: 73271912.60374883\n",
      "  model = cd_fast.enet_coordinate_descent_gram(\n",
      "/Users/h2jw/opt/anaconda3/lib/python3.8/site-packages/sklearn/linear_model/_coordinate_descent.py:525: ConvergenceWarning: Objective did not converge. You might want to increase the number of iterations. Duality gap: 76576260.56079102, tolerance: 73271912.60374883\n",
      "  model = cd_fast.enet_coordinate_descent_gram(\n",
      "/Users/h2jw/opt/anaconda3/lib/python3.8/site-packages/sklearn/linear_model/_coordinate_descent.py:525: ConvergenceWarning: Objective did not converge. You might want to increase the number of iterations. Duality gap: 79114532.74975586, tolerance: 73271912.60374883\n",
      "  model = cd_fast.enet_coordinate_descent_gram(\n",
      "/Users/h2jw/opt/anaconda3/lib/python3.8/site-packages/sklearn/linear_model/_coordinate_descent.py:525: ConvergenceWarning: Objective did not converge. You might want to increase the number of iterations. Duality gap: 81366756.79016113, tolerance: 73271912.60374883\n",
      "  model = cd_fast.enet_coordinate_descent_gram(\n"
     ]
    },
    {
     "name": "stderr",
     "output_type": "stream",
     "text": [
      "/Users/h2jw/opt/anaconda3/lib/python3.8/site-packages/sklearn/linear_model/_coordinate_descent.py:525: ConvergenceWarning: Objective did not converge. You might want to increase the number of iterations. Duality gap: 77569461.46923828, tolerance: 73303005.69543266\n",
      "  model = cd_fast.enet_coordinate_descent_gram(\n",
      "/Users/h2jw/opt/anaconda3/lib/python3.8/site-packages/sklearn/linear_model/_coordinate_descent.py:525: ConvergenceWarning: Objective did not converge. You might want to increase the number of iterations. Duality gap: 77656108.60632324, tolerance: 73303005.69543266\n",
      "  model = cd_fast.enet_coordinate_descent_gram(\n",
      "/Users/h2jw/opt/anaconda3/lib/python3.8/site-packages/sklearn/linear_model/_coordinate_descent.py:525: ConvergenceWarning: Objective did not converge. You might want to increase the number of iterations. Duality gap: 74970612.12329102, tolerance: 72942385.56952973\n",
      "  model = cd_fast.enet_coordinate_descent_gram(\n",
      "/Users/h2jw/opt/anaconda3/lib/python3.8/site-packages/sklearn/linear_model/_coordinate_descent.py:525: ConvergenceWarning: Objective did not converge. You might want to increase the number of iterations. Duality gap: 74774392.11315918, tolerance: 72942385.56952973\n",
      "  model = cd_fast.enet_coordinate_descent_gram(\n",
      "/Users/h2jw/opt/anaconda3/lib/python3.8/site-packages/sklearn/linear_model/_coordinate_descent.py:525: ConvergenceWarning: Objective did not converge. You might want to increase the number of iterations. Duality gap: 74651750.49145508, tolerance: 72942385.56952973\n",
      "  model = cd_fast.enet_coordinate_descent_gram(\n",
      "/Users/h2jw/opt/anaconda3/lib/python3.8/site-packages/sklearn/linear_model/_coordinate_descent.py:525: ConvergenceWarning: Objective did not converge. You might want to increase the number of iterations. Duality gap: 81523940.33618164, tolerance: 72637004.37290506\n",
      "  model = cd_fast.enet_coordinate_descent_gram(\n",
      "/Users/h2jw/opt/anaconda3/lib/python3.8/site-packages/sklearn/linear_model/_coordinate_descent.py:525: ConvergenceWarning: Objective did not converge. You might want to increase the number of iterations. Duality gap: 73491480.14587402, tolerance: 72274145.54010747\n",
      "  model = cd_fast.enet_coordinate_descent_gram(\n",
      "/Users/h2jw/opt/anaconda3/lib/python3.8/site-packages/sklearn/linear_model/_coordinate_descent.py:525: ConvergenceWarning: Objective did not converge. You might want to increase the number of iterations. Duality gap: 81795055.96411133, tolerance: 73281769.47203179\n",
      "  model = cd_fast.enet_coordinate_descent_gram(\n",
      "/Users/h2jw/opt/anaconda3/lib/python3.8/site-packages/sklearn/linear_model/_coordinate_descent.py:525: ConvergenceWarning: Objective did not converge. You might want to increase the number of iterations. Duality gap: 84153983.45739746, tolerance: 73281769.47203179\n",
      "  model = cd_fast.enet_coordinate_descent_gram(\n",
      "/Users/h2jw/opt/anaconda3/lib/python3.8/site-packages/sklearn/linear_model/_coordinate_descent.py:525: ConvergenceWarning: Objective did not converge. You might want to increase the number of iterations. Duality gap: 90775439.04394531, tolerance: 72976480.67309\n",
      "  model = cd_fast.enet_coordinate_descent_gram(\n",
      "/Users/h2jw/opt/anaconda3/lib/python3.8/site-packages/sklearn/linear_model/_coordinate_descent.py:525: ConvergenceWarning: Objective did not converge. You might want to increase the number of iterations. Duality gap: 75307622.1229248, tolerance: 72886070.63336456\n",
      "  model = cd_fast.enet_coordinate_descent_gram(\n",
      "/Users/h2jw/opt/anaconda3/lib/python3.8/site-packages/sklearn/linear_model/_coordinate_descent.py:525: ConvergenceWarning: Objective did not converge. You might want to increase the number of iterations. Duality gap: 73907957.26782227, tolerance: 72730300.75207959\n",
      "  model = cd_fast.enet_coordinate_descent_gram(\n",
      "/Users/h2jw/opt/anaconda3/lib/python3.8/site-packages/sklearn/linear_model/_coordinate_descent.py:525: ConvergenceWarning: Objective did not converge. You might want to increase the number of iterations. Duality gap: 74679027.90576172, tolerance: 72643289.25314449\n",
      "  model = cd_fast.enet_coordinate_descent_gram(\n",
      "/Users/h2jw/opt/anaconda3/lib/python3.8/site-packages/sklearn/linear_model/_coordinate_descent.py:525: ConvergenceWarning: Objective did not converge. You might want to increase the number of iterations. Duality gap: 86482036.57971191, tolerance: 72643289.25314449\n",
      "  model = cd_fast.enet_coordinate_descent_gram(\n",
      "/Users/h2jw/opt/anaconda3/lib/python3.8/site-packages/sklearn/linear_model/_coordinate_descent.py:525: ConvergenceWarning: Objective did not converge. You might want to increase the number of iterations. Duality gap: 85461147.15368652, tolerance: 72643289.25314449\n",
      "  model = cd_fast.enet_coordinate_descent_gram(\n",
      "/Users/h2jw/opt/anaconda3/lib/python3.8/site-packages/sklearn/linear_model/_coordinate_descent.py:525: ConvergenceWarning: Objective did not converge. You might want to increase the number of iterations. Duality gap: 93173482.61816406, tolerance: 72739355.80342864\n",
      "  model = cd_fast.enet_coordinate_descent_gram(\n",
      "/Users/h2jw/opt/anaconda3/lib/python3.8/site-packages/sklearn/linear_model/_coordinate_descent.py:525: ConvergenceWarning: Objective did not converge. You might want to increase the number of iterations. Duality gap: 95547618.66345215, tolerance: 72739355.80342864\n",
      "  model = cd_fast.enet_coordinate_descent_gram(\n",
      "/Users/h2jw/opt/anaconda3/lib/python3.8/site-packages/sklearn/linear_model/_coordinate_descent.py:525: ConvergenceWarning: Objective did not converge. You might want to increase the number of iterations. Duality gap: 83273509.9822998, tolerance: 72733734.96758375\n",
      "  model = cd_fast.enet_coordinate_descent_gram(\n",
      "/Users/h2jw/opt/anaconda3/lib/python3.8/site-packages/sklearn/linear_model/_coordinate_descent.py:525: ConvergenceWarning: Objective did not converge. You might want to increase the number of iterations. Duality gap: 86717554.31518555, tolerance: 73071932.46819876\n",
      "  model = cd_fast.enet_coordinate_descent_gram(\n",
      "/Users/h2jw/opt/anaconda3/lib/python3.8/site-packages/sklearn/linear_model/_coordinate_descent.py:525: ConvergenceWarning: Objective did not converge. You might want to increase the number of iterations. Duality gap: 91228531.92150879, tolerance: 72926101.16914988\n",
      "  model = cd_fast.enet_coordinate_descent_gram(\n",
      "/Users/h2jw/opt/anaconda3/lib/python3.8/site-packages/sklearn/linear_model/_coordinate_descent.py:525: ConvergenceWarning: Objective did not converge. You might want to increase the number of iterations. Duality gap: 93921850.96728516, tolerance: 73071420.6693318\n",
      "  model = cd_fast.enet_coordinate_descent_gram(\n",
      "/Users/h2jw/opt/anaconda3/lib/python3.8/site-packages/sklearn/linear_model/_coordinate_descent.py:525: ConvergenceWarning: Objective did not converge. You might want to increase the number of iterations. Duality gap: 89995515.96154785, tolerance: 73324961.88417666\n",
      "  model = cd_fast.enet_coordinate_descent_gram(\n",
      "/Users/h2jw/opt/anaconda3/lib/python3.8/site-packages/sklearn/linear_model/_coordinate_descent.py:525: ConvergenceWarning: Objective did not converge. You might want to increase the number of iterations. Duality gap: 78037769.97949219, tolerance: 72712241.90305825\n",
      "  model = cd_fast.enet_coordinate_descent_gram(\n",
      "/Users/h2jw/opt/anaconda3/lib/python3.8/site-packages/sklearn/linear_model/_coordinate_descent.py:525: ConvergenceWarning: Objective did not converge. You might want to increase the number of iterations. Duality gap: 94508351.76696777, tolerance: 72712241.90305825\n",
      "  model = cd_fast.enet_coordinate_descent_gram(\n",
      "/Users/h2jw/opt/anaconda3/lib/python3.8/site-packages/sklearn/linear_model/_coordinate_descent.py:525: ConvergenceWarning: Objective did not converge. You might want to increase the number of iterations. Duality gap: 82121125.79760742, tolerance: 72402255.60037675\n",
      "  model = cd_fast.enet_coordinate_descent_gram(\n",
      "/Users/h2jw/opt/anaconda3/lib/python3.8/site-packages/sklearn/linear_model/_coordinate_descent.py:525: ConvergenceWarning: Objective did not converge. You might want to increase the number of iterations. Duality gap: 73039200.20446777, tolerance: 72143778.97039077\n",
      "  model = cd_fast.enet_coordinate_descent_gram(\n",
      "/Users/h2jw/opt/anaconda3/lib/python3.8/site-packages/sklearn/linear_model/_coordinate_descent.py:525: ConvergenceWarning: Objective did not converge. You might want to increase the number of iterations. Duality gap: 73119468.33764648, tolerance: 72501779.52662334\n",
      "  model = cd_fast.enet_coordinate_descent_gram(\n"
     ]
    },
    {
     "name": "stderr",
     "output_type": "stream",
     "text": [
      "/Users/h2jw/opt/anaconda3/lib/python3.8/site-packages/sklearn/linear_model/_coordinate_descent.py:525: ConvergenceWarning: Objective did not converge. You might want to increase the number of iterations. Duality gap: 82748235.13317871, tolerance: 72228258.90131275\n",
      "  model = cd_fast.enet_coordinate_descent_gram(\n",
      "/Users/h2jw/opt/anaconda3/lib/python3.8/site-packages/sklearn/linear_model/_coordinate_descent.py:525: ConvergenceWarning: Objective did not converge. You might want to increase the number of iterations. Duality gap: 100119700.94812012, tolerance: 72228258.90131275\n",
      "  model = cd_fast.enet_coordinate_descent_gram(\n",
      "/Users/h2jw/opt/anaconda3/lib/python3.8/site-packages/sklearn/linear_model/_coordinate_descent.py:525: ConvergenceWarning: Objective did not converge. You might want to increase the number of iterations. Duality gap: 79277316.17211914, tolerance: 72370679.81283453\n",
      "  model = cd_fast.enet_coordinate_descent_gram(\n",
      "/Users/h2jw/opt/anaconda3/lib/python3.8/site-packages/sklearn/linear_model/_coordinate_descent.py:525: ConvergenceWarning: Objective did not converge. You might want to increase the number of iterations. Duality gap: 78883456.94482422, tolerance: 72370679.81283453\n",
      "  model = cd_fast.enet_coordinate_descent_gram(\n",
      "/Users/h2jw/opt/anaconda3/lib/python3.8/site-packages/sklearn/linear_model/_coordinate_descent.py:525: ConvergenceWarning: Objective did not converge. You might want to increase the number of iterations. Duality gap: 99129906.91308594, tolerance: 73229110.04419439\n",
      "  model = cd_fast.enet_coordinate_descent_gram(\n",
      "/Users/h2jw/opt/anaconda3/lib/python3.8/site-packages/sklearn/linear_model/_coordinate_descent.py:525: ConvergenceWarning: Objective did not converge. You might want to increase the number of iterations. Duality gap: 82985182.7836914, tolerance: 73138215.39209157\n",
      "  model = cd_fast.enet_coordinate_descent_gram(\n",
      "/Users/h2jw/opt/anaconda3/lib/python3.8/site-packages/sklearn/linear_model/_coordinate_descent.py:525: ConvergenceWarning: Objective did not converge. You might want to increase the number of iterations. Duality gap: 79822740.92932129, tolerance: 72329665.183496\n",
      "  model = cd_fast.enet_coordinate_descent_gram(\n",
      "/Users/h2jw/opt/anaconda3/lib/python3.8/site-packages/sklearn/linear_model/_coordinate_descent.py:525: ConvergenceWarning: Objective did not converge. You might want to increase the number of iterations. Duality gap: 84956231.79138184, tolerance: 72303112.32500325\n",
      "  model = cd_fast.enet_coordinate_descent_gram(\n",
      "/Users/h2jw/opt/anaconda3/lib/python3.8/site-packages/sklearn/linear_model/_coordinate_descent.py:525: ConvergenceWarning: Objective did not converge. You might want to increase the number of iterations. Duality gap: 84110816.36132812, tolerance: 71576177.47162539\n",
      "  model = cd_fast.enet_coordinate_descent_gram(\n",
      "/Users/h2jw/opt/anaconda3/lib/python3.8/site-packages/sklearn/linear_model/_coordinate_descent.py:525: ConvergenceWarning: Objective did not converge. You might want to increase the number of iterations. Duality gap: 79651458.48498535, tolerance: 72732719.23514754\n",
      "  model = cd_fast.enet_coordinate_descent_gram(\n",
      "/Users/h2jw/opt/anaconda3/lib/python3.8/site-packages/sklearn/linear_model/_coordinate_descent.py:525: ConvergenceWarning: Objective did not converge. You might want to increase the number of iterations. Duality gap: 81647537.7878418, tolerance: 72000180.72134593\n",
      "  model = cd_fast.enet_coordinate_descent_gram(\n",
      "/Users/h2jw/opt/anaconda3/lib/python3.8/site-packages/sklearn/linear_model/_coordinate_descent.py:525: ConvergenceWarning: Objective did not converge. You might want to increase the number of iterations. Duality gap: 80585122.52697754, tolerance: 72000180.72134593\n",
      "  model = cd_fast.enet_coordinate_descent_gram(\n",
      "/Users/h2jw/opt/anaconda3/lib/python3.8/site-packages/sklearn/linear_model/_coordinate_descent.py:525: ConvergenceWarning: Objective did not converge. You might want to increase the number of iterations. Duality gap: 83822655.95910645, tolerance: 72000180.72134593\n",
      "  model = cd_fast.enet_coordinate_descent_gram(\n",
      "/Users/h2jw/opt/anaconda3/lib/python3.8/site-packages/sklearn/linear_model/_coordinate_descent.py:525: ConvergenceWarning: Objective did not converge. You might want to increase the number of iterations. Duality gap: 73292538.16748047, tolerance: 72696379.25930838\n",
      "  model = cd_fast.enet_coordinate_descent_gram(\n",
      "/Users/h2jw/opt/anaconda3/lib/python3.8/site-packages/sklearn/linear_model/_coordinate_descent.py:525: ConvergenceWarning: Objective did not converge. You might want to increase the number of iterations. Duality gap: 87719650.54992676, tolerance: 73159417.02388363\n",
      "  model = cd_fast.enet_coordinate_descent_gram(\n",
      "/Users/h2jw/opt/anaconda3/lib/python3.8/site-packages/sklearn/linear_model/_coordinate_descent.py:525: ConvergenceWarning: Objective did not converge. You might want to increase the number of iterations. Duality gap: 88151172.88952637, tolerance: 73159417.02388363\n",
      "  model = cd_fast.enet_coordinate_descent_gram(\n",
      "/Users/h2jw/opt/anaconda3/lib/python3.8/site-packages/sklearn/linear_model/_coordinate_descent.py:525: ConvergenceWarning: Objective did not converge. You might want to increase the number of iterations. Duality gap: 105828323.94812012, tolerance: 73159417.02388363\n",
      "  model = cd_fast.enet_coordinate_descent_gram(\n",
      "/Users/h2jw/opt/anaconda3/lib/python3.8/site-packages/sklearn/linear_model/_coordinate_descent.py:525: ConvergenceWarning: Objective did not converge. You might want to increase the number of iterations. Duality gap: 77301391.69787598, tolerance: 73025947.16939503\n",
      "  model = cd_fast.enet_coordinate_descent_gram(\n",
      "/Users/h2jw/opt/anaconda3/lib/python3.8/site-packages/sklearn/linear_model/_coordinate_descent.py:525: ConvergenceWarning: Objective did not converge. You might want to increase the number of iterations. Duality gap: 88760470.89331055, tolerance: 71856331.1344075\n",
      "  model = cd_fast.enet_coordinate_descent_gram(\n",
      "/Users/h2jw/opt/anaconda3/lib/python3.8/site-packages/sklearn/linear_model/_coordinate_descent.py:525: ConvergenceWarning: Objective did not converge. You might want to increase the number of iterations. Duality gap: 88660539.67626953, tolerance: 71856331.1344075\n",
      "  model = cd_fast.enet_coordinate_descent_gram(\n",
      "/Users/h2jw/opt/anaconda3/lib/python3.8/site-packages/sklearn/linear_model/_coordinate_descent.py:525: ConvergenceWarning: Objective did not converge. You might want to increase the number of iterations. Duality gap: 96398094.50280762, tolerance: 72468911.65124898\n",
      "  model = cd_fast.enet_coordinate_descent_gram(\n",
      "/Users/h2jw/opt/anaconda3/lib/python3.8/site-packages/sklearn/linear_model/_coordinate_descent.py:525: ConvergenceWarning: Objective did not converge. You might want to increase the number of iterations. Duality gap: 90526216.74890137, tolerance: 72468911.65124898\n",
      "  model = cd_fast.enet_coordinate_descent_gram(\n",
      "/Users/h2jw/opt/anaconda3/lib/python3.8/site-packages/sklearn/linear_model/_coordinate_descent.py:525: ConvergenceWarning: Objective did not converge. You might want to increase the number of iterations. Duality gap: 100769088.94934082, tolerance: 72468911.65124898\n",
      "  model = cd_fast.enet_coordinate_descent_gram(\n",
      "/Users/h2jw/opt/anaconda3/lib/python3.8/site-packages/sklearn/linear_model/_coordinate_descent.py:525: ConvergenceWarning: Objective did not converge. You might want to increase the number of iterations. Duality gap: 102303717.18273926, tolerance: 72468911.65124898\n",
      "  model = cd_fast.enet_coordinate_descent_gram(\n",
      "/Users/h2jw/opt/anaconda3/lib/python3.8/site-packages/sklearn/linear_model/_coordinate_descent.py:525: ConvergenceWarning: Objective did not converge. You might want to increase the number of iterations. Duality gap: 102231861.91125488, tolerance: 72468911.65124898\n",
      "  model = cd_fast.enet_coordinate_descent_gram(\n",
      "/Users/h2jw/opt/anaconda3/lib/python3.8/site-packages/sklearn/linear_model/_coordinate_descent.py:525: ConvergenceWarning: Objective did not converge. You might want to increase the number of iterations. Duality gap: 96591809.86523438, tolerance: 72173428.09680147\n",
      "  model = cd_fast.enet_coordinate_descent_gram(\n",
      "/Users/h2jw/opt/anaconda3/lib/python3.8/site-packages/sklearn/linear_model/_coordinate_descent.py:525: ConvergenceWarning: Objective did not converge. You might want to increase the number of iterations. Duality gap: 98371409.9630127, tolerance: 72173428.09680147\n",
      "  model = cd_fast.enet_coordinate_descent_gram(\n",
      "/Users/h2jw/opt/anaconda3/lib/python3.8/site-packages/sklearn/linear_model/_coordinate_descent.py:525: ConvergenceWarning: Objective did not converge. You might want to increase the number of iterations. Duality gap: 97980376.5748291, tolerance: 72173428.09680147\n",
      "  model = cd_fast.enet_coordinate_descent_gram(\n"
     ]
    },
    {
     "name": "stderr",
     "output_type": "stream",
     "text": [
      "/Users/h2jw/opt/anaconda3/lib/python3.8/site-packages/sklearn/linear_model/_coordinate_descent.py:525: ConvergenceWarning: Objective did not converge. You might want to increase the number of iterations. Duality gap: 99843943.73278809, tolerance: 72173428.09680147\n",
      "  model = cd_fast.enet_coordinate_descent_gram(\n",
      "/Users/h2jw/opt/anaconda3/lib/python3.8/site-packages/sklearn/linear_model/_coordinate_descent.py:525: ConvergenceWarning: Objective did not converge. You might want to increase the number of iterations. Duality gap: 99814892.99890137, tolerance: 72173428.09680147\n",
      "  model = cd_fast.enet_coordinate_descent_gram(\n",
      "/Users/h2jw/opt/anaconda3/lib/python3.8/site-packages/sklearn/linear_model/_coordinate_descent.py:525: ConvergenceWarning: Objective did not converge. You might want to increase the number of iterations. Duality gap: 88330743.58190918, tolerance: 72672538.5868949\n",
      "  model = cd_fast.enet_coordinate_descent_gram(\n",
      "/Users/h2jw/opt/anaconda3/lib/python3.8/site-packages/sklearn/linear_model/_coordinate_descent.py:525: ConvergenceWarning: Objective did not converge. You might want to increase the number of iterations. Duality gap: 89833206.19714355, tolerance: 72672538.5868949\n",
      "  model = cd_fast.enet_coordinate_descent_gram(\n",
      "/Users/h2jw/opt/anaconda3/lib/python3.8/site-packages/sklearn/linear_model/_coordinate_descent.py:525: ConvergenceWarning: Objective did not converge. You might want to increase the number of iterations. Duality gap: 100405293.20544434, tolerance: 72672538.5868949\n",
      "  model = cd_fast.enet_coordinate_descent_gram(\n",
      "/Users/h2jw/opt/anaconda3/lib/python3.8/site-packages/sklearn/linear_model/_coordinate_descent.py:525: ConvergenceWarning: Objective did not converge. You might want to increase the number of iterations. Duality gap: 97952872.82263184, tolerance: 72672538.5868949\n",
      "  model = cd_fast.enet_coordinate_descent_gram(\n",
      "/Users/h2jw/opt/anaconda3/lib/python3.8/site-packages/sklearn/linear_model/_coordinate_descent.py:525: ConvergenceWarning: Objective did not converge. You might want to increase the number of iterations. Duality gap: 79050658.79382324, tolerance: 72547460.52887294\n",
      "  model = cd_fast.enet_coordinate_descent_gram(\n",
      "/Users/h2jw/opt/anaconda3/lib/python3.8/site-packages/sklearn/linear_model/_coordinate_descent.py:525: ConvergenceWarning: Objective did not converge. You might want to increase the number of iterations. Duality gap: 104596082.86083984, tolerance: 73019228.44501953\n",
      "  model = cd_fast.enet_coordinate_descent_gram(\n",
      "/Users/h2jw/opt/anaconda3/lib/python3.8/site-packages/sklearn/linear_model/_coordinate_descent.py:525: ConvergenceWarning: Objective did not converge. You might want to increase the number of iterations. Duality gap: 75573304.28137207, tolerance: 73041474.65735517\n",
      "  model = cd_fast.enet_coordinate_descent_gram(\n",
      "/Users/h2jw/opt/anaconda3/lib/python3.8/site-packages/sklearn/linear_model/_coordinate_descent.py:525: ConvergenceWarning: Objective did not converge. You might want to increase the number of iterations. Duality gap: 94600344.25720215, tolerance: 73041474.65735517\n",
      "  model = cd_fast.enet_coordinate_descent_gram(\n",
      "/Users/h2jw/opt/anaconda3/lib/python3.8/site-packages/sklearn/linear_model/_coordinate_descent.py:525: ConvergenceWarning: Objective did not converge. You might want to increase the number of iterations. Duality gap: 84807965.77844238, tolerance: 73609436.38124894\n",
      "  model = cd_fast.enet_coordinate_descent_gram(\n",
      "/Users/h2jw/opt/anaconda3/lib/python3.8/site-packages/sklearn/linear_model/_coordinate_descent.py:525: ConvergenceWarning: Objective did not converge. You might want to increase the number of iterations. Duality gap: 84900697.21179199, tolerance: 72923013.23536614\n",
      "  model = cd_fast.enet_coordinate_descent_gram(\n",
      "/Users/h2jw/opt/anaconda3/lib/python3.8/site-packages/sklearn/linear_model/_coordinate_descent.py:525: ConvergenceWarning: Objective did not converge. You might want to increase the number of iterations. Duality gap: 95661726.81188965, tolerance: 72923013.23536614\n",
      "  model = cd_fast.enet_coordinate_descent_gram(\n",
      "/Users/h2jw/opt/anaconda3/lib/python3.8/site-packages/sklearn/linear_model/_coordinate_descent.py:525: ConvergenceWarning: Objective did not converge. You might want to increase the number of iterations. Duality gap: 75848011.24645996, tolerance: 73005974.41265604\n",
      "  model = cd_fast.enet_coordinate_descent_gram(\n",
      "/Users/h2jw/opt/anaconda3/lib/python3.8/site-packages/sklearn/linear_model/_coordinate_descent.py:525: ConvergenceWarning: Objective did not converge. You might want to increase the number of iterations. Duality gap: 75363454.90905762, tolerance: 71964248.35081322\n",
      "  model = cd_fast.enet_coordinate_descent_gram(\n",
      "/Users/h2jw/opt/anaconda3/lib/python3.8/site-packages/sklearn/linear_model/_coordinate_descent.py:525: ConvergenceWarning: Objective did not converge. You might want to increase the number of iterations. Duality gap: 76296337.13562012, tolerance: 71964248.35081322\n",
      "  model = cd_fast.enet_coordinate_descent_gram(\n",
      "/Users/h2jw/opt/anaconda3/lib/python3.8/site-packages/sklearn/linear_model/_coordinate_descent.py:525: ConvergenceWarning: Objective did not converge. You might want to increase the number of iterations. Duality gap: 77507948.82983398, tolerance: 72643743.81503275\n",
      "  model = cd_fast.enet_coordinate_descent_gram(\n"
     ]
    },
    {
     "name": "stdout",
     "output_type": "stream",
     "text": [
      "\n"
     ]
    },
    {
     "data": {
      "application/vnd.jupyter.widget-view+json": {
       "model_id": "42b6dcdd22fd42219db47234804c1f8f",
       "version_major": 2,
       "version_minor": 0
      },
      "text/plain": [
       "HBox(children=(HTML(value=''), FloatProgress(value=0.0, max=91.0), HTML(value='')))"
      ]
     },
     "metadata": {},
     "output_type": "display_data"
    },
    {
     "name": "stdout",
     "output_type": "stream",
     "text": [
      "\n"
     ]
    },
    {
     "ename": "NameError",
     "evalue": "name 'min_pred' is not defined",
     "output_type": "error",
     "traceback": [
      "\u001b[0;31m---------------------------------------------------------------------------\u001b[0m",
      "\u001b[0;31mNameError\u001b[0m                                 Traceback (most recent call last)",
      "\u001b[0;32m<ipython-input-68-14d3de206fe3>\u001b[0m in \u001b[0;36m<module>\u001b[0;34m\u001b[0m\n\u001b[1;32m     18\u001b[0m \u001b[0;34m\u001b[0m\u001b[0m\n\u001b[1;32m     19\u001b[0m \u001b[0mPrevisionsLasso\u001b[0m \u001b[0;34m=\u001b[0m \u001b[0mpd\u001b[0m\u001b[0;34m.\u001b[0m\u001b[0mDataFrame\u001b[0m\u001b[0;34m(\u001b[0m\u001b[0mdata\u001b[0m\u001b[0;34m=\u001b[0m\u001b[0mPrevisionsLasso\u001b[0m\u001b[0;34m,\u001b[0m\u001b[0mcolumns\u001b[0m \u001b[0;34m=\u001b[0m \u001b[0;34m[\u001b[0m\u001b[0;34m\"Date\"\u001b[0m\u001b[0;34m,\u001b[0m \u001b[0;34m\"Faisceau\"\u001b[0m\u001b[0;34m,\u001b[0m \u001b[0;34m\"ArrDep\"\u001b[0m\u001b[0;34m,\u001b[0m \u001b[0;34m\"PAX_Lasso\"\u001b[0m\u001b[0;34m]\u001b[0m\u001b[0;34m)\u001b[0m\u001b[0;34m\u001b[0m\u001b[0;34m\u001b[0m\u001b[0m\n\u001b[0;32m---> 20\u001b[0;31m \u001b[0mPrevisionsLasso\u001b[0m\u001b[0;34m[\u001b[0m\u001b[0;34m\"IC\"\u001b[0m\u001b[0;34m+\u001b[0m\u001b[0mstr\u001b[0m\u001b[0;34m(\u001b[0m\u001b[0mint\u001b[0m\u001b[0;34m(\u001b[0m\u001b[0mic\u001b[0m\u001b[0;34m*\u001b[0m\u001b[0;36m100\u001b[0m\u001b[0;34m)\u001b[0m\u001b[0;34m)\u001b[0m\u001b[0;34m+\u001b[0m\u001b[0;34m\"_low_LASSO\"\u001b[0m\u001b[0;34m]\u001b[0m \u001b[0;34m=\u001b[0m \u001b[0mmin_pred\u001b[0m\u001b[0;34m\u001b[0m\u001b[0;34m\u001b[0m\u001b[0m\n\u001b[0m\u001b[1;32m     21\u001b[0m \u001b[0;31m#PrevisionsLasso[\"IC\"+str(int(ic*100))+\"_up_LASSO\"] = max_pred\u001b[0m\u001b[0;34m\u001b[0m\u001b[0;34m\u001b[0m\u001b[0;34m\u001b[0m\u001b[0m\n",
      "\u001b[0;31mNameError\u001b[0m: name 'min_pred' is not defined"
     ]
    }
   ],
   "source": [
    "model = LassoCV(cv=5,eps=0.001, n_alphas=100, normalize=True)\n",
    "        # L'argument normalize=True va normaliser toutes les colonnes de X\n",
    "model.fit(X_mod,y_mod)\n",
    "\n",
    "predictions = model.predict(X_pred)\n",
    "\n",
    "# Calcul des IC par bootstrap\n",
    "\n",
    "intervals = prediction_interval(model, X_mod, y_mod, X_pred, 0.95)\n",
    "\n",
    "# Mise en forme des prédictions :\n",
    "faisceau = histoMod['Faisceau'][0] \n",
    "mvt = histoMod['ArrDep'][0]\n",
    "\n",
    "PrevisionsLasso=[]\n",
    "for k in trange(hPrev) :\n",
    "    PrevisionsLasso.append([dateFinMod + timedelta(days=k+1) , faisceau, mvt, predictions[k]])\n",
    "\n",
    "PrevisionsLasso = pd.DataFrame(data=PrevisionsLasso,columns = [\"Date\", \"Faisceau\", \"ArrDep\", \"PAX_Lasso\"])\n",
    "#PrevisionsLasso[\"IC\"+str(int(ic*100))+\"_low_LASSO\"] = min_pred\n",
    "#PrevisionsLasso[\"IC\"+str(int(ic*100))+\"_up_LASSO\"] = max_pred\n"
   ]
  },
  {
   "cell_type": "code",
   "execution_count": 69,
   "metadata": {},
   "outputs": [],
   "source": [
    "PrevisionsLasso[\"IC\"+str(int(ic*100))+\"_low_LASSO\"] = PrevisionsLasso[\"PAX_Lasso\"]+intervals[0]\n",
    "PrevisionsLasso[\"IC\"+str(int(ic*100))+\"_up_LASSO\"] = PrevisionsLasso[\"PAX_Lasso\"]+ intervals[2]"
   ]
  },
  {
   "cell_type": "code",
   "execution_count": 70,
   "metadata": {},
   "outputs": [
    {
     "data": {
      "text/html": [
       "<div>\n",
       "<style scoped>\n",
       "    .dataframe tbody tr th:only-of-type {\n",
       "        vertical-align: middle;\n",
       "    }\n",
       "\n",
       "    .dataframe tbody tr th {\n",
       "        vertical-align: top;\n",
       "    }\n",
       "\n",
       "    .dataframe thead th {\n",
       "        text-align: right;\n",
       "    }\n",
       "</style>\n",
       "<table border=\"1\" class=\"dataframe\">\n",
       "  <thead>\n",
       "    <tr style=\"text-align: right;\">\n",
       "      <th></th>\n",
       "      <th>Date</th>\n",
       "      <th>Faisceau</th>\n",
       "      <th>ArrDep</th>\n",
       "      <th>PAX_Lasso</th>\n",
       "      <th>IC95_low_LASSO</th>\n",
       "      <th>IC95_up_LASSO</th>\n",
       "    </tr>\n",
       "  </thead>\n",
       "  <tbody>\n",
       "    <tr>\n",
       "      <th>0</th>\n",
       "      <td>2016-01-01</td>\n",
       "      <td>Autre UE</td>\n",
       "      <td>Arrivée</td>\n",
       "      <td>6515.214334</td>\n",
       "      <td>5919.811825</td>\n",
       "      <td>6735.740021</td>\n",
       "    </tr>\n",
       "    <tr>\n",
       "      <th>1</th>\n",
       "      <td>2016-01-02</td>\n",
       "      <td>Autre UE</td>\n",
       "      <td>Arrivée</td>\n",
       "      <td>6977.504462</td>\n",
       "      <td>6382.101953</td>\n",
       "      <td>7198.030149</td>\n",
       "    </tr>\n",
       "    <tr>\n",
       "      <th>2</th>\n",
       "      <td>2016-01-03</td>\n",
       "      <td>Autre UE</td>\n",
       "      <td>Arrivée</td>\n",
       "      <td>8562.241341</td>\n",
       "      <td>7966.838832</td>\n",
       "      <td>8782.767028</td>\n",
       "    </tr>\n",
       "    <tr>\n",
       "      <th>3</th>\n",
       "      <td>2016-01-04</td>\n",
       "      <td>Autre UE</td>\n",
       "      <td>Arrivée</td>\n",
       "      <td>7244.391945</td>\n",
       "      <td>6648.989435</td>\n",
       "      <td>7464.917632</td>\n",
       "    </tr>\n",
       "    <tr>\n",
       "      <th>4</th>\n",
       "      <td>2016-01-05</td>\n",
       "      <td>Autre UE</td>\n",
       "      <td>Arrivée</td>\n",
       "      <td>6523.295065</td>\n",
       "      <td>5927.892555</td>\n",
       "      <td>6743.820752</td>\n",
       "    </tr>\n",
       "    <tr>\n",
       "      <th>...</th>\n",
       "      <td>...</td>\n",
       "      <td>...</td>\n",
       "      <td>...</td>\n",
       "      <td>...</td>\n",
       "      <td>...</td>\n",
       "      <td>...</td>\n",
       "    </tr>\n",
       "    <tr>\n",
       "      <th>86</th>\n",
       "      <td>2016-03-27</td>\n",
       "      <td>Autre UE</td>\n",
       "      <td>Arrivée</td>\n",
       "      <td>6973.618300</td>\n",
       "      <td>6378.215790</td>\n",
       "      <td>7194.143987</td>\n",
       "    </tr>\n",
       "    <tr>\n",
       "      <th>87</th>\n",
       "      <td>2016-03-28</td>\n",
       "      <td>Autre UE</td>\n",
       "      <td>Arrivée</td>\n",
       "      <td>7313.710953</td>\n",
       "      <td>6718.308443</td>\n",
       "      <td>7534.236640</td>\n",
       "    </tr>\n",
       "    <tr>\n",
       "      <th>88</th>\n",
       "      <td>2016-03-29</td>\n",
       "      <td>Autre UE</td>\n",
       "      <td>Arrivée</td>\n",
       "      <td>6592.614073</td>\n",
       "      <td>5997.211563</td>\n",
       "      <td>6813.139760</td>\n",
       "    </tr>\n",
       "    <tr>\n",
       "      <th>89</th>\n",
       "      <td>2016-03-30</td>\n",
       "      <td>Autre UE</td>\n",
       "      <td>Arrivée</td>\n",
       "      <td>6665.361893</td>\n",
       "      <td>6069.959383</td>\n",
       "      <td>6885.887580</td>\n",
       "    </tr>\n",
       "    <tr>\n",
       "      <th>90</th>\n",
       "      <td>2016-03-31</td>\n",
       "      <td>Autre UE</td>\n",
       "      <td>Arrivée</td>\n",
       "      <td>7275.813269</td>\n",
       "      <td>6680.410759</td>\n",
       "      <td>7496.338955</td>\n",
       "    </tr>\n",
       "  </tbody>\n",
       "</table>\n",
       "<p>91 rows × 6 columns</p>\n",
       "</div>"
      ],
      "text/plain": [
       "         Date  Faisceau   ArrDep    PAX_Lasso  IC95_low_LASSO  IC95_up_LASSO\n",
       "0  2016-01-01  Autre UE  Arrivée  6515.214334     5919.811825    6735.740021\n",
       "1  2016-01-02  Autre UE  Arrivée  6977.504462     6382.101953    7198.030149\n",
       "2  2016-01-03  Autre UE  Arrivée  8562.241341     7966.838832    8782.767028\n",
       "3  2016-01-04  Autre UE  Arrivée  7244.391945     6648.989435    7464.917632\n",
       "4  2016-01-05  Autre UE  Arrivée  6523.295065     5927.892555    6743.820752\n",
       "..        ...       ...      ...          ...             ...            ...\n",
       "86 2016-03-27  Autre UE  Arrivée  6973.618300     6378.215790    7194.143987\n",
       "87 2016-03-28  Autre UE  Arrivée  7313.710953     6718.308443    7534.236640\n",
       "88 2016-03-29  Autre UE  Arrivée  6592.614073     5997.211563    6813.139760\n",
       "89 2016-03-30  Autre UE  Arrivée  6665.361893     6069.959383    6885.887580\n",
       "90 2016-03-31  Autre UE  Arrivée  7275.813269     6680.410759    7496.338955\n",
       "\n",
       "[91 rows x 6 columns]"
      ]
     },
     "execution_count": 70,
     "metadata": {},
     "output_type": "execute_result"
    }
   ],
   "source": [
    "PrevisionsLasso"
   ]
  },
  {
   "cell_type": "code",
   "execution_count": null,
   "metadata": {},
   "outputs": [],
   "source": [
    "import seaborn as sns\n",
    "sns.set(style='darkgrid')\n",
    "fig, ax = plt.subplots(figsize=(12,6))\n",
    "\n",
    "\n",
    "PrevisionsLasso[['Date','PAX_Lasso']].set_index('Date').plot(ax = ax,legend=True,style='o-')\n",
    "PrevisionsLasso[['Date','IC95_low_LASSO']].set_index('Date').plot(ax=ax,legend=True,style='o--')\n",
    "PrevisionsLasso[['Date','IC95_up_LASSO']].set_index('Date').plot(ax=ax,legend=True,style='o--')\n"
   ]
  },
  {
   "cell_type": "code",
   "execution_count": null,
   "metadata": {},
   "outputs": [],
   "source": [
    "PrevisionsLasso"
   ]
  },
  {
   "cell_type": "code",
   "execution_count": 60,
   "metadata": {},
   "outputs": [
    {
     "data": {
      "text/html": [
       "<div>\n",
       "<style scoped>\n",
       "    .dataframe tbody tr th:only-of-type {\n",
       "        vertical-align: middle;\n",
       "    }\n",
       "\n",
       "    .dataframe tbody tr th {\n",
       "        vertical-align: top;\n",
       "    }\n",
       "\n",
       "    .dataframe thead th {\n",
       "        text-align: right;\n",
       "    }\n",
       "</style>\n",
       "<table border=\"1\" class=\"dataframe\">\n",
       "  <thead>\n",
       "    <tr style=\"text-align: right;\">\n",
       "      <th></th>\n",
       "    </tr>\n",
       "  </thead>\n",
       "  <tbody>\n",
       "  </tbody>\n",
       "</table>\n",
       "</div>"
      ],
      "text/plain": [
       "Empty DataFrame\n",
       "Columns: []\n",
       "Index: []"
      ]
     },
     "execution_count": 60,
     "metadata": {},
     "output_type": "execute_result"
    }
   ],
   "source": [
    "pd.DataFrame()"
   ]
  },
  {
   "cell_type": "code",
   "execution_count": 34,
   "metadata": {},
   "outputs": [
    {
     "data": {
      "text/plain": [
       "((29045, 20), (7, 20))"
      ]
     },
     "execution_count": 34,
     "metadata": {},
     "output_type": "execute_result"
    }
   ],
   "source": [
    "np.shape(X_mod), np.shape(X_pred)"
   ]
  },
  {
   "cell_type": "code",
   "execution_count": 39,
   "metadata": {},
   "outputs": [
    {
     "data": {
      "text/plain": [
       "array([6515.21433424, 6977.50446235, 8562.24134149, 7244.39194495,\n",
       "       6523.29506501, 6596.0428849 , 7206.4942607 ])"
      ]
     },
     "execution_count": 39,
     "metadata": {},
     "output_type": "execute_result"
    }
   ],
   "source": [
    "predictions"
   ]
  },
  {
   "cell_type": "code",
   "execution_count": 88,
   "metadata": {},
   "outputs": [
    {
     "data": {
      "text/html": [
       "<div>\n",
       "<style scoped>\n",
       "    .dataframe tbody tr th:only-of-type {\n",
       "        vertical-align: middle;\n",
       "    }\n",
       "\n",
       "    .dataframe tbody tr th {\n",
       "        vertical-align: top;\n",
       "    }\n",
       "\n",
       "    .dataframe thead th {\n",
       "        text-align: right;\n",
       "    }\n",
       "</style>\n",
       "<table border=\"1\" class=\"dataframe\">\n",
       "  <thead>\n",
       "    <tr style=\"text-align: right;\">\n",
       "      <th></th>\n",
       "      <th>Date</th>\n",
       "      <th>Faisceau</th>\n",
       "      <th>ArrDep</th>\n",
       "      <th>PAX_Lasso</th>\n",
       "      <th>IC95_low_LASSO</th>\n",
       "      <th>IC95_up_LASSO</th>\n",
       "    </tr>\n",
       "  </thead>\n",
       "  <tbody>\n",
       "    <tr>\n",
       "      <th>0</th>\n",
       "      <td>2016-01-01</td>\n",
       "      <td>Autre UE</td>\n",
       "      <td>Arrivée</td>\n",
       "      <td>7133.845835</td>\n",
       "      <td>-236.471828</td>\n",
       "      <td>18928.412785</td>\n",
       "    </tr>\n",
       "    <tr>\n",
       "      <th>1</th>\n",
       "      <td>2016-01-02</td>\n",
       "      <td>Autre UE</td>\n",
       "      <td>Arrivée</td>\n",
       "      <td>7708.452777</td>\n",
       "      <td>338.135114</td>\n",
       "      <td>19503.019727</td>\n",
       "    </tr>\n",
       "    <tr>\n",
       "      <th>2</th>\n",
       "      <td>2016-01-03</td>\n",
       "      <td>Autre UE</td>\n",
       "      <td>Arrivée</td>\n",
       "      <td>7843.424475</td>\n",
       "      <td>473.106812</td>\n",
       "      <td>19637.991426</td>\n",
       "    </tr>\n",
       "    <tr>\n",
       "      <th>3</th>\n",
       "      <td>2016-01-04</td>\n",
       "      <td>Autre UE</td>\n",
       "      <td>Arrivée</td>\n",
       "      <td>6698.474741</td>\n",
       "      <td>-671.842922</td>\n",
       "      <td>18493.041691</td>\n",
       "    </tr>\n",
       "    <tr>\n",
       "      <th>4</th>\n",
       "      <td>2016-01-05</td>\n",
       "      <td>Autre UE</td>\n",
       "      <td>Arrivée</td>\n",
       "      <td>6837.978620</td>\n",
       "      <td>-532.339042</td>\n",
       "      <td>18632.545571</td>\n",
       "    </tr>\n",
       "    <tr>\n",
       "      <th>5</th>\n",
       "      <td>2016-01-06</td>\n",
       "      <td>Autre UE</td>\n",
       "      <td>Arrivée</td>\n",
       "      <td>6977.482500</td>\n",
       "      <td>-392.835163</td>\n",
       "      <td>18772.049451</td>\n",
       "    </tr>\n",
       "    <tr>\n",
       "      <th>6</th>\n",
       "      <td>2016-01-07</td>\n",
       "      <td>Autre UE</td>\n",
       "      <td>Arrivée</td>\n",
       "      <td>7116.986380</td>\n",
       "      <td>-253.331283</td>\n",
       "      <td>18911.553330</td>\n",
       "    </tr>\n",
       "  </tbody>\n",
       "</table>\n",
       "</div>"
      ],
      "text/plain": [
       "        Date  Faisceau   ArrDep    PAX_Lasso  IC95_low_LASSO  IC95_up_LASSO\n",
       "0 2016-01-01  Autre UE  Arrivée  7133.845835     -236.471828   18928.412785\n",
       "1 2016-01-02  Autre UE  Arrivée  7708.452777      338.135114   19503.019727\n",
       "2 2016-01-03  Autre UE  Arrivée  7843.424475      473.106812   19637.991426\n",
       "3 2016-01-04  Autre UE  Arrivée  6698.474741     -671.842922   18493.041691\n",
       "4 2016-01-05  Autre UE  Arrivée  6837.978620     -532.339042   18632.545571\n",
       "5 2016-01-06  Autre UE  Arrivée  6977.482500     -392.835163   18772.049451\n",
       "6 2016-01-07  Autre UE  Arrivée  7116.986380     -253.331283   18911.553330"
      ]
     },
     "execution_count": 88,
     "metadata": {},
     "output_type": "execute_result"
    }
   ],
   "source": [
    "PrevisionsLasso"
   ]
  },
  {
   "cell_type": "code",
   "execution_count": 71,
   "metadata": {},
   "outputs": [],
   "source": [
    "PrevisionsLasso.to_csv('previsionsLasso91j.csv')"
   ]
  },
  {
   "cell_type": "code",
   "execution_count": null,
   "metadata": {
    "colab": {
     "base_uri": "https://localhost:8080/"
    },
    "id": "yyh4uoTbofFq",
    "outputId": "e1006db6-7b7a-478a-b0b0-646ed488e950"
   },
   "outputs": [],
   "source": []
  },
  {
   "cell_type": "code",
   "execution_count": null,
   "metadata": {
    "id": "PMLzepReq8sN"
   },
   "outputs": [],
   "source": []
  }
 ],
 "metadata": {
  "colab": {
   "name": "Comparaisons previsions.ipynb",
   "provenance": []
  },
  "kernelspec": {
   "display_name": "Python 3",
   "language": "python",
   "name": "python3"
  },
  "language_info": {
   "codemirror_mode": {
    "name": "ipython",
    "version": 3
   },
   "file_extension": ".py",
   "mimetype": "text/x-python",
   "name": "python",
   "nbconvert_exporter": "python",
   "pygments_lexer": "ipython3",
   "version": "3.8.5"
  }
 },
 "nbformat": 4,
 "nbformat_minor": 1
}
