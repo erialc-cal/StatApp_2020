{
 "cells": [
  {
   "cell_type": "code",
   "execution_count": 7,
   "metadata": {},
   "outputs": [],
   "source": [
    "import os \n",
    "import math\n",
    "from datetime import timedelta\n",
    "import seaborn as sns\n",
    "import datetime\n",
    "import pandas as pd\n",
    "import numpy as np\n",
    "from tqdm import tqdm \n",
    "from Modele_Lasso_IC import previsions_Lasso\n",
    "os.getcwd()\n",
    "dir_path= \"/Users/h2jw/Documents/GitHub/StatApp_2020/\"\n",
    "os.chdir(dir_path)"
   ]
  },
  {
   "cell_type": "code",
   "execution_count": 8,
   "metadata": {},
   "outputs": [
    {
     "name": "stdout",
     "output_type": "stream",
     "text": [
      "\u001b[34mBibliographie\u001b[m\u001b[m       \u001b[34mModélisation\u001b[m\u001b[m        README.md\r\n",
      "\u001b[34mData\u001b[m\u001b[m                \u001b[34mPreparation reunion\u001b[m\u001b[m \u001b[34mVisualisation\u001b[m\u001b[m\r\n"
     ]
    }
   ],
   "source": [
    "!ls"
   ]
  },
  {
   "cell_type": "code",
   "execution_count": null,
   "metadata": {},
   "outputs": [
    {
     "name": "stderr",
     "output_type": "stream",
     "text": [
      "  5%|▍         | 46/1000 [01:41<31:55,  2.01s/it]/Users/h2jw/opt/anaconda3/lib/python3.8/site-packages/sklearn/linear_model/_coordinate_descent.py:529: ConvergenceWarning: Objective did not converge. You might want to increase the number of iterations. Duality gap: 4347669.241205215, tolerance: 4119846.9266526536\n",
      "  model = cd_fast.enet_coordinate_descent(\n",
      "  5%|▌         | 52/1000 [01:57<39:50,  2.52s/it]"
     ]
    }
   ],
   "source": [
    "dateDebMod = pd.to_datetime(\"2008-01-01\")\n",
    "dateFinMod = pd.to_datetime(\"2015-12-31\")\n",
    "\n",
    "path = \"/Users/h2jw/Documents/GitHub/StatApp_2020/\"\n",
    "horizonsPrev = [7, 31+29+31, 365]  # (en jours) [365] \n",
    "ic = 0.95   # Seuil de l'intervalle de confiance souhaité\n",
    "            \n",
    "\n",
    "\n",
    "\n",
    "if __name__ == '__main__':\n",
    "    \n",
    "    database = pd.read_csv(\"/Users/h2jw/Downloads/database_sieges.csv\",low_memory=False,decimal=',')\n",
    "    database = database.astype({'Date': 'datetime64[ns]','PAX_FQM':'float','Sièges Corrections_ICI':'float','Coeff_Rempl':'float','Coeff_Rempl_FQM':'float'})\n",
    "    database = database.groupby(['Date','Faisceau','ArrDep']).agg({'PAX':'sum','PAX_FQM':'sum','Sièges Corrections_ICI':'sum','Coeff_Rempl':'mean','Coeff_Rempl_FQM':'mean'}).reset_index()\n",
    "\n",
    "    Calendrier = pd.read_csv(path+\"Data/Calendrier/Calendrier.csv\", dayfirst = True , sep = ';' , parse_dates = ['Date'])\n",
    "\n",
    "    histoMod = database[(database['Date']>=dateDebMod) & (database['Date']<=dateFinMod)]\n",
    "    # histoMod.to_csv(\"HistoMod.csv\")\n",
    "    \n",
    "    \n",
    "    for hPrev in horizonsPrev :\n",
    "        \n",
    "        # on va ajouter les prévisions à l'historique précédent + sur la période de prévisions\n",
    "        histoPrev = database[(database['Date']>=dateDebMod) & (database['Date']<=dateFinMod+timedelta(days = hPrev))]\n",
    "            # ( sans historique précédent : histoPrev = database[(database['Date']>dateFinMod) & (database['Date']<=dateFinMod+timedelta(days = hPrev))]   )\n",
    "\n",
    "        Prev_Lasso = pd.DataFrame()\n",
    "\n",
    "    \n",
    "        for faisceau in ['National', 'Schengen', 'Autre UE', 'International', 'Dom Tom'] :\n",
    "            for mvt in ['Départ']: #, 'Arrivée']: \n",
    "            \n",
    "                histoMod_2 = histoMod[(histoMod['Faisceau']==faisceau) & (histoMod['ArrDep']==mvt)]\n",
    "\n",
    "               # Modèle Lasso : \n",
    "                prev_Lasso = previsions_Lasso (histoMod_2, Calendrier, dateDebMod, dateFinMod, hPrev, ic)\n",
    "                Prev_Lasso = pd.concat([Prev_Lasso,prev_Lasso],ignore_index=True)\n",
    "                    \n",
    "                    \n",
    "        # Ajout des prévisions des différents modèles à histoPrev           \n",
    "        histoPrev = pd.concat([histoPrev.set_index(['Date','Faisceau','ArrDep']),\n",
    "                               Prev_Arima.set_index(['Date','Faisceau','ArrDep']),\n",
    "                               Prev_Sarima.set_index(['Date','Faisceau','ArrDep']),\n",
    "                               Prev_NP.set_index(['Date','Faisceau','ArrDep']),\n",
    "                               Prev_Lasso.set_index(['Date','Faisceau','ArrDep'])],axis=1)\n",
    "        histoPrev = histoPrev.reset_index()\n",
    "\n",
    "        histoPrev.to_csv(\"Previsions_Lasso\"+str(hPrev)+\"j.csv\")\n",
    "\n"
   ]
  },
  {
   "cell_type": "code",
   "execution_count": null,
   "metadata": {},
   "outputs": [],
   "source": []
  }
 ],
 "metadata": {
  "kernelspec": {
   "display_name": "Python 3",
   "language": "python",
   "name": "python3"
  },
  "language_info": {
   "codemirror_mode": {
    "name": "ipython",
    "version": 3
   },
   "file_extension": ".py",
   "mimetype": "text/x-python",
   "name": "python",
   "nbconvert_exporter": "python",
   "pygments_lexer": "ipython3",
   "version": "3.8.5"
  }
 },
 "nbformat": 4,
 "nbformat_minor": 4
}
